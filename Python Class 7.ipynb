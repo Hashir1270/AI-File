{
 "cells": [
  {
   "cell_type": "markdown",
   "id": "0381a52b",
   "metadata": {},
   "source": [
    "# Linear programming"
   ]
  },
  {
   "cell_type": "markdown",
   "id": "ffc1091f",
   "metadata": {},
   "source": [
    "# Structural Programming"
   ]
  },
  {
   "cell_type": "code",
   "execution_count": 5,
   "id": "4d6a0dc2",
   "metadata": {},
   "outputs": [
    {
     "name": "stdout",
     "output_type": "stream",
     "text": [
      "Pakistan Zindabad!\n",
      "Pakistan Zindabad!\n",
      "Pakistan Zindabad!\n",
      "Pakistan Zindabad!\n",
      "Pakistan Zindabad!\n",
      "Pakistan Zindabad!\n",
      "Pakistan Zindabad!\n",
      "Pakistan Zindabad!\n",
      "Pakistan Zindabad!\n",
      "Pakistan Zindabad!\n"
     ]
    }
   ],
   "source": [
    "for num in range(1,11):\n",
    "    print(\"Pakistan Zindabad!\")"
   ]
  },
  {
   "cell_type": "markdown",
   "id": "0dba0942",
   "metadata": {},
   "source": [
    "# Controll_block\n",
    "* if\n",
    " * else\n",
    " * elif\n",
    "* for/while\n",
    "  * break\n",
    "  * continunue\n",
    "  * pass\n"
   ]
  },
  {
   "cell_type": "markdown",
   "id": "af647630",
   "metadata": {},
   "source": [
    "# IF "
   ]
  },
  {
   "cell_type": "code",
   "execution_count": 6,
   "id": "f4a66f42",
   "metadata": {},
   "outputs": [
    {
     "name": "stdout",
     "output_type": "stream",
     "text": [
      "Pakistan Zindabad!\n",
      "America\n"
     ]
    }
   ],
   "source": [
    "print(\"Pakistan Zindabad!\")\n",
    "print(\"America\")"
   ]
  },
  {
   "cell_type": "code",
   "execution_count": 7,
   "id": "f6bd378c",
   "metadata": {},
   "outputs": [
    {
     "name": "stdout",
     "output_type": "stream",
     "text": [
      "Pakistan Zindabad!\n"
     ]
    }
   ],
   "source": [
    "if True:\n",
    "    print(\"Pakistan Zindabad!\")\n",
    "else:\n",
    "    print(\"America\")"
   ]
  },
  {
   "cell_type": "code",
   "execution_count": 8,
   "id": "a50027ba",
   "metadata": {},
   "outputs": [
    {
     "name": "stdout",
     "output_type": "stream",
     "text": [
      "America\n"
     ]
    }
   ],
   "source": [
    "if False:\n",
    "    print(\"Pakistan Zindabad!\")\n",
    "else:\n",
    "    print(\"America\")"
   ]
  },
  {
   "cell_type": "code",
   "execution_count": 14,
   "id": "1d8422af",
   "metadata": {},
   "outputs": [
    {
     "name": "stdout",
     "output_type": "stream",
     "text": [
      "Enter any number: 2000\n",
      "2000 <class 'int'>\n",
      "0\n",
      "True\n"
     ]
    }
   ],
   "source": [
    "num = int(input(\"Enter any number: \"))\n",
    "print(num,type(num))\n",
    "print(num % 2)\n",
    "print(num % 2 == 0)\n"
   ]
  },
  {
   "cell_type": "code",
   "execution_count": 19,
   "id": "355dbdd8",
   "metadata": {},
   "outputs": [
    {
     "name": "stdout",
     "output_type": "stream",
     "text": [
      "Enter any number: 2000\n",
      "the 2000 is Even!\n"
     ]
    }
   ],
   "source": [
    "num = int(input(\"Enter any number: \"))\n",
    "\n",
    "if num % 2 == 0:\n",
    "    print(f\"the {num} is Even!\")\n",
    "else:\n",
    "    print(f\"the {num} is old!\")\n"
   ]
  },
  {
   "cell_type": "code",
   "execution_count": 20,
   "id": "129123ba",
   "metadata": {},
   "outputs": [
    {
     "name": "stdout",
     "output_type": "stream",
     "text": [
      "Enter any number: 146\n",
      "146 <class 'int'>\n",
      "0\n",
      "True\n",
      "True\n"
     ]
    }
   ],
   "source": [
    "num = int(input(\"Enter any number: \"))\n",
    "print(num,type(num))\n",
    "print(num % 2)\n",
    "print(num % 2 == 0)\n",
    "print(0 == 0)"
   ]
  },
  {
   "cell_type": "code",
   "execution_count": 23,
   "id": "678e89fb",
   "metadata": {},
   "outputs": [
    {
     "name": "stdout",
     "output_type": "stream",
     "text": [
      "Enter your percentage: 45\n",
      "P\n",
      "Pakistan Zindabad!\n"
     ]
    }
   ],
   "source": [
    "per = int(input(\"Enter your percentage: \"))\n",
    "\n",
    "if per >= 80:  # 1\n",
    "    print(\"A+\")\n",
    "elif per >= 70:  # 2\n",
    "    print(\"A\")\n",
    "elif per >= 60:  # 3\n",
    "    print(\"B\")\n",
    "elif per >= 50:  # 4\n",
    "    print(\"C\")\n",
    "elif per >= 40:  # 5\n",
    "    print(\"P\")\n",
    "elif per >= 33:  # 6\n",
    "    print(\"F\")\n",
    "\n",
    "print(\"Pakistan Zindabad!\")"
   ]
  },
  {
   "cell_type": "code",
   "execution_count": 25,
   "id": "9bb117f2",
   "metadata": {},
   "outputs": [
    {
     "name": "stdout",
     "output_type": "stream",
     "text": [
      "C\n",
      "Pakistan Zindabad!\n"
     ]
    }
   ],
   "source": [
    "per = 66\n",
    "\n",
    "if False >= 80:  # 1\n",
    "    print(\"A+\")\n",
    "elif False >= 70:  # 2\n",
    "    print(\"A\")\n",
    "elif True >= 60:  # 3\n",
    "    print(\"B\")\n",
    "elif 66 >= 50:  # 4\n",
    "    print(\"C\")\n",
    "elif 66 >= 40:  # 5\n",
    "    print(\"P\")\n",
    "elif 66 >= 33:  # 6\n",
    "    print(\"F\")\n",
    "\n",
    "print(\"Pakistan Zindabad!\")"
   ]
  },
  {
   "cell_type": "code",
   "execution_count": 26,
   "id": "0161f968",
   "metadata": {},
   "outputs": [
    {
     "name": "stdout",
     "output_type": "stream",
     "text": [
      "Enter percentage: 89\n",
      "Fail\n"
     ]
    }
   ],
   "source": [
    "per = int(input(\"Enter percentage: \"))\n",
    "\n",
    "if per >= 0:\n",
    "    print(\"Fail\")\n",
    "elif per >= 33:\n",
    "    print(\"E\")\n",
    "elif per >= 40:\n",
    "    print(\"D\")\n",
    "elif per >= 50:\n",
    "    print(\"C\")\n",
    "elif per >= 60:\n",
    "    print(\"B\")\n",
    "elif per >= 70:\n",
    "    print(\"A\")\n",
    "elif per >= 80:\n",
    "    print(\"A+\")\n",
    "    "
   ]
  },
  {
   "cell_type": "code",
   "execution_count": 27,
   "id": "7fa4a931",
   "metadata": {},
   "outputs": [
    {
     "data": {
      "text/plain": [
       "True"
      ]
     },
     "execution_count": 27,
     "metadata": {},
     "output_type": "execute_result"
    }
   ],
   "source": [
    "True and True and True"
   ]
  },
  {
   "cell_type": "code",
   "execution_count": null,
   "id": "954eee60",
   "metadata": {},
   "outputs": [],
   "source": []
  },
  {
   "cell_type": "code",
   "execution_count": 28,
   "id": "276f51d9",
   "metadata": {},
   "outputs": [
    {
     "name": "stdout",
     "output_type": "stream",
     "text": [
      "Enter percentage: 76\n",
      "A\n"
     ]
    }
   ],
   "source": [
    "per = int(input(\"Enter percentage: \"))\n",
    "\n",
    "if per >= 0 and per <= 33:\n",
    "    print(\"Fail\")\n",
    "elif per >= 33 and per <= 40:\n",
    "    print(\"E\")\n",
    "elif per >= 40 and per <= 50:\n",
    "    print(\"D\")\n",
    "elif per >= 50 and per <= 60:\n",
    "    print(\"C\")\n",
    "elif per >= 60 and per <= 70:\n",
    "    print(\"B\")\n",
    "elif per >= 70 and per <= 80:\n",
    "    print(\"A\")\n",
    "elif per >= 80 and per <= 100:\n",
    "    print(\"A+\")\n",
    "    "
   ]
  },
  {
   "cell_type": "code",
   "execution_count": 32,
   "id": "86ba2fb0",
   "metadata": {},
   "outputs": [
    {
     "name": "stdout",
     "output_type": "stream",
     "text": [
      "Enter user nameAdmin\n",
      "Enter your passwordAdmin\n",
      "Valid User\n"
     ]
    }
   ],
   "source": [
    "user_name = input(\"Enter user name\")\n",
    "password = input(\"Enter your password\")\n",
    "\n",
    "if user_name == 'Admin' and password == 'Admin':\n",
    "    print(\"Valid User\")\n",
    "else:\n",
    "    print(\"invalid User\")"
   ]
  },
  {
   "cell_type": "code",
   "execution_count": 34,
   "id": "822d7f53",
   "metadata": {},
   "outputs": [
    {
     "name": "stdout",
     "output_type": "stream",
     "text": [
      "Enter user namehashir\n",
      "Enter your passwordHashir\n",
      "invalid User\n"
     ]
    }
   ],
   "source": [
    "user_name = input(\"Enter user name\")\n",
    "password = input(\"Enter your password\")\n",
    "\n",
    "print(\"valid user\") if user_name.lower() == 'admin' and password == 'Admin' else  print(\"invalid User\")\n",
    "\n"
   ]
  },
  {
   "cell_type": "code",
   "execution_count": 42,
   "id": "cd23e1d3",
   "metadata": {},
   "outputs": [
    {
     "ename": "IndentationError",
     "evalue": "unexpected indent (2223247517.py, line 4)",
     "output_type": "error",
     "traceback": [
      "\u001b[1;36m  File \u001b[1;32m\"C:\\Users\\Admin\\AppData\\Local\\Temp\\ipykernel_9024\\2223247517.py\"\u001b[1;36m, line \u001b[1;32m4\u001b[0m\n\u001b[1;33m    if user_name.lower() == 'admin',\u001b[0m\n\u001b[1;37m    ^\u001b[0m\n\u001b[1;31mIndentationError\u001b[0m\u001b[1;31m:\u001b[0m unexpected indent\n"
     ]
    }
   ],
   "source": [
    "user_name = input(\"Enter user name\")\n",
    "password = input(\"Enter your password\")\n",
    "\n",
    "if user_name.lower() == 'admin',\n",
    "    if password == 'Admin':\n",
    "    print(\"Valid User\")\n",
    "else:\n",
    "    print(\"invalid User\")"
   ]
  },
  {
   "cell_type": "markdown",
   "id": "129679f2",
   "metadata": {},
   "source": [
    "# loop"
   ]
  },
  {
   "cell_type": "code",
   "execution_count": 43,
   "id": "6d74b75f",
   "metadata": {},
   "outputs": [
    {
     "name": "stdout",
     "output_type": "stream",
     "text": [
      "P\n",
      "a\n",
      "k\n",
      "i\n",
      "s\n",
      "t\n",
      "a\n",
      "n\n",
      " \n",
      "Z\n",
      "i\n",
      "n\n",
      "d\n",
      "a\n",
      "b\n",
      "a\n",
      "d\n",
      "!\n"
     ]
    }
   ],
   "source": [
    "abc = \"Pakistan Zindabad!\"\n",
    "for i in abc:\n",
    "    print(i)"
   ]
  },
  {
   "cell_type": "code",
   "execution_count": 45,
   "id": "db427821",
   "metadata": {},
   "outputs": [
    {
     "data": {
      "text/plain": [
       "[(0, 'a'),\n",
       " (1, 'b'),\n",
       " (2, 'c'),\n",
       " (3, 'd'),\n",
       " (4, 1),\n",
       " (5, 2),\n",
       " (6, 3),\n",
       " (7, 'abc'),\n",
       " (8, 'xyz')]"
      ]
     },
     "execution_count": 45,
     "metadata": {},
     "output_type": "execute_result"
    }
   ],
   "source": [
    "list(enumerate(['a','b','c','d',1,2,3,'abc','xyz']))"
   ]
  },
  {
   "cell_type": "code",
   "execution_count": 49,
   "id": "5ffc5676",
   "metadata": {},
   "outputs": [
    {
     "name": "stdout",
     "output_type": "stream",
     "text": [
      "0 abc\n",
      "1 a\n"
     ]
    }
   ],
   "source": [
    "for index, value in enumerate(['abc','a']):\n",
    "    print(index, value)"
   ]
  },
  {
   "cell_type": "code",
   "execution_count": 51,
   "id": "3281815b",
   "metadata": {},
   "outputs": [
    {
     "data": {
      "text/plain": [
       "['Pakistan zindabad!']"
      ]
     },
     "execution_count": 51,
     "metadata": {},
     "output_type": "execute_result"
    }
   ],
   "source": [
    "list([\"Pakistan zindabad!\"])"
   ]
  },
  {
   "cell_type": "markdown",
   "id": "10a02be2",
   "metadata": {},
   "source": [
    "# ASCII\n",
    "* 0-9= 48-57\n",
    "* A-Z = 65-90\n",
    "* a-z = 97-122"
   ]
  },
  {
   "cell_type": "code",
   "execution_count": 52,
   "id": "360924e1",
   "metadata": {},
   "outputs": [
    {
     "data": {
      "text/plain": [
       "['A',\n",
       " 'B',\n",
       " 'C',\n",
       " 'D',\n",
       " 'E',\n",
       " 'F',\n",
       " 'G',\n",
       " 'H',\n",
       " 'I',\n",
       " 'J',\n",
       " 'K',\n",
       " 'L',\n",
       " 'M',\n",
       " 'N',\n",
       " 'O',\n",
       " 'P',\n",
       " 'Q',\n",
       " 'R',\n",
       " 'S',\n",
       " 'T',\n",
       " 'U',\n",
       " 'V',\n",
       " 'W',\n",
       " 'X',\n",
       " 'Y',\n",
       " 'Z']"
      ]
     },
     "execution_count": 52,
     "metadata": {},
     "output_type": "execute_result"
    }
   ],
   "source": [
    "[chr(i) for i in range(65,91)]"
   ]
  },
  {
   "cell_type": "code",
   "execution_count": 53,
   "id": "295b8dfd",
   "metadata": {},
   "outputs": [
    {
     "ename": "SyntaxError",
     "evalue": "invalid syntax (381006750.py, line 1)",
     "output_type": "error",
     "traceback": [
      "\u001b[1;36m  File \u001b[1;32m\"C:\\Users\\Admin\\AppData\\Local\\Temp\\ipykernel_9024\\381006750.py\"\u001b[1;36m, line \u001b[1;32m1\u001b[0m\n\u001b[1;33m    [chr(i) for i in range(65,91)] +\u001b[0m\n\u001b[1;37m                                    ^\u001b[0m\n\u001b[1;31mSyntaxError\u001b[0m\u001b[1;31m:\u001b[0m invalid syntax\n"
     ]
    }
   ],
   "source": [
    "[chr(i) for i in range(65,91)] +\n",
    "[chr(i) for i in range(97,122)] +\n",
    "[chr(i) for i in range(48,58)]"
   ]
  },
  {
   "cell_type": "code",
   "execution_count": 54,
   "id": "39e65c31",
   "metadata": {},
   "outputs": [
    {
     "data": {
      "text/plain": [
       "['A',\n",
       " 'B',\n",
       " 'C',\n",
       " 'D',\n",
       " 'E',\n",
       " 'F',\n",
       " 'G',\n",
       " 'H',\n",
       " 'I',\n",
       " 'J',\n",
       " 'K',\n",
       " 'L',\n",
       " 'M',\n",
       " 'N',\n",
       " 'O',\n",
       " 'P',\n",
       " 'Q',\n",
       " 'R',\n",
       " 'S',\n",
       " 'T',\n",
       " 'U',\n",
       " 'V',\n",
       " 'W',\n",
       " 'X',\n",
       " 'Y',\n",
       " 'Z',\n",
       " 'a',\n",
       " 'b',\n",
       " 'c',\n",
       " 'd',\n",
       " 'e',\n",
       " 'f',\n",
       " 'g',\n",
       " 'h',\n",
       " 'i',\n",
       " 'j',\n",
       " 'k',\n",
       " 'l',\n",
       " 'm',\n",
       " 'n',\n",
       " 'o',\n",
       " 'p',\n",
       " 'q',\n",
       " 'r',\n",
       " 's',\n",
       " 't',\n",
       " 'u',\n",
       " 'v',\n",
       " 'w',\n",
       " 'x',\n",
       " 'y',\n",
       " '0',\n",
       " '1',\n",
       " '2',\n",
       " '3',\n",
       " '4',\n",
       " '5',\n",
       " '6',\n",
       " '7',\n",
       " '8',\n",
       " '9']"
      ]
     },
     "execution_count": 54,
     "metadata": {},
     "output_type": "execute_result"
    }
   ],
   "source": [
    "[chr(i) for i in range(65,91)] +\\\n",
    "[chr(i) for i in range(97,122)] +\\\n",
    "[chr(i) for i in range(48,58)]"
   ]
  },
  {
   "cell_type": "code",
   "execution_count": 56,
   "id": "f300c620",
   "metadata": {},
   "outputs": [
    {
     "data": {
      "text/plain": [
       "['0', '2', '4', '6', '8']"
      ]
     },
     "execution_count": 56,
     "metadata": {},
     "output_type": "execute_result"
    }
   ],
   "source": [
    "[chr(i) for i in range(48,58) if i % 2 == 0]"
   ]
  },
  {
   "cell_type": "code",
   "execution_count": 57,
   "id": "56e3d3b5",
   "metadata": {},
   "outputs": [
    {
     "data": {
      "text/plain": [
       "['B',\n",
       " 'D',\n",
       " 'F',\n",
       " 'H',\n",
       " 'J',\n",
       " 'L',\n",
       " 'N',\n",
       " 'P',\n",
       " 'R',\n",
       " 'T',\n",
       " 'V',\n",
       " 'X',\n",
       " 'Z',\n",
       " '\\\\',\n",
       " '^',\n",
       " '`']"
      ]
     },
     "execution_count": 57,
     "metadata": {},
     "output_type": "execute_result"
    }
   ],
   "source": [
    "[chr(i) for i in range(65,98) if i % 2 == 0]"
   ]
  },
  {
   "cell_type": "code",
   "execution_count": 58,
   "id": "daa1fc93",
   "metadata": {},
   "outputs": [
    {
     "data": {
      "text/plain": [
       "['A',\n",
       " 'C',\n",
       " 'E',\n",
       " 'G',\n",
       " 'I',\n",
       " 'K',\n",
       " 'M',\n",
       " 'O',\n",
       " 'Q',\n",
       " 'S',\n",
       " 'U',\n",
       " 'W',\n",
       " 'Y',\n",
       " '[',\n",
       " ']',\n",
       " '_',\n",
       " 'a']"
      ]
     },
     "execution_count": 58,
     "metadata": {},
     "output_type": "execute_result"
    }
   ],
   "source": [
    "[chr(i) for i in range(65,98) if i % 2 != 0]"
   ]
  },
  {
   "cell_type": "code",
   "execution_count": 59,
   "id": "cb580523",
   "metadata": {},
   "outputs": [
    {
     "name": "stdout",
     "output_type": "stream",
     "text": [
      "1\n",
      "2\n",
      "3\n",
      "4\n",
      "5\n",
      "6\n",
      "7\n",
      "8\n",
      "9\n",
      "10\n"
     ]
    }
   ],
   "source": [
    "for i in range(1,11):\n",
    "    print(i)"
   ]
  },
  {
   "cell_type": "code",
   "execution_count": 60,
   "id": "0cd9b7b7",
   "metadata": {},
   "outputs": [
    {
     "name": "stdout",
     "output_type": "stream",
     "text": [
      "1\n",
      "2\n",
      "3\n",
      "4\n",
      "5\n"
     ]
    }
   ],
   "source": [
    "for i in range(1,11):\n",
    "    print(i)\n",
    "    if i == 5:\n",
    "        break"
   ]
  },
  {
   "cell_type": "code",
   "execution_count": 74,
   "id": "5fa2a652",
   "metadata": {},
   "outputs": [
    {
     "name": "stdout",
     "output_type": "stream",
     "text": [
      "\n",
      "    Sylani Mass IT training\n",
      "    Roll: 1\n",
      "    Name: Hashir\n",
      "\n",
      "    Sylani Mass IT training\n",
      "    Roll: 2\n",
      "    Name: Yousuf\n",
      "\n",
      "    Sylani Mass IT training\n",
      "    Roll: 3\n",
      "    Name: Bilal\n"
     ]
    }
   ],
   "source": [
    "data = [{'id':1,'name':\"Hashir\"},\n",
    "        {'id':2,'name':\"Yousuf\"},\n",
    "       {'id':3,'name':\"Bilal\"}]\n",
    "for record in data:\n",
    "    card = \"\"\"\n",
    "    Sylani Mass IT training\n",
    "    Roll: {id}\n",
    "    Name: {name}\"\"\".format_map(record)\n",
    "    print(card)"
   ]
  },
  {
   "cell_type": "code",
   "execution_count": 76,
   "id": "16aa7838",
   "metadata": {},
   "outputs": [
    {
     "name": "stdout",
     "output_type": "stream",
     "text": [
      "Enter user nameBilal\n",
      "enter your passwordxyz\n",
      "{'id': 3, 'name': 'Bilal', 'u': 'Bilal', 'p': 'xyz'}\n",
      "invalid user or password\n"
     ]
    }
   ],
   "source": [
    "data = [{'id':1,'name':\"Hashir\",'u':\"hashir\",'p':\"123\" },\n",
    "        {'id':2,'name':\"Yousuf\",'u':\"yousuf\",'p':\"abc\" },\n",
    "       {'id':3,'name':\"Bilal\",'u':\"Bilal\",'p':\"xyz\" }]\n",
    "user = input(\"Enter user name\")\n",
    "password = input(\"enter your password\")\n",
    "\n",
    "for d in data:\n",
    "    if d['u'] == user and d['p'] == password:\n",
    "        print(d)\n",
    "        break\n",
    "        \n",
    "print(\"invalid user or password\")"
   ]
  },
  {
   "cell_type": "code",
   "execution_count": 88,
   "id": "2445bef3",
   "metadata": {},
   "outputs": [
    {
     "name": "stdout",
     "output_type": "stream",
     "text": [
      "1\n",
      "2\n",
      "3\n",
      "4\n",
      "6\n",
      "7\n",
      "8\n",
      "9\n",
      "10\n"
     ]
    }
   ],
   "source": [
    "for i in range(1,11):\n",
    "    if i == 5:\n",
    "        continue\n",
    "    print(i)\n"
   ]
  },
  {
   "cell_type": "code",
   "execution_count": 85,
   "id": "69e602da",
   "metadata": {},
   "outputs": [
    {
     "name": "stdout",
     "output_type": "stream",
     "text": [
      "999\n"
     ]
    }
   ],
   "source": [
    "for i in range(1,1000):\n",
    "    pass\n",
    "print(i)\n"
   ]
  },
  {
   "cell_type": "markdown",
   "id": "3d102b13",
   "metadata": {},
   "source": [
    "# while\n",
    "* counter\n",
    "* logic\n",
    "* loop body\n",
    "* increment/decrement"
   ]
  },
  {
   "cell_type": "code",
   "execution_count": 98,
   "id": "2374d117",
   "metadata": {},
   "outputs": [
    {
     "name": "stdout",
     "output_type": "stream",
     "text": [
      "0 line\n",
      "1 line\n",
      "2 line\n",
      "3 line\n",
      "4 line\n",
      "5 line\n",
      "6 line\n",
      "7 line\n",
      "8 line\n",
      "9 line\n",
      "10 line\n",
      "11 line\n",
      "12 line\n",
      "13 line\n",
      "14 line\n",
      "15 line\n",
      "16 line\n",
      "17 line\n",
      "18 line\n",
      "19 line\n",
      "20 line\n",
      "21 line\n",
      "22 line\n",
      "23 line\n",
      "24 line\n",
      "25 line\n",
      "26 line\n",
      "27 line\n",
      "28 line\n",
      "29 line\n",
      "30 line\n",
      "31 line\n",
      "32 line\n",
      "33 line\n",
      "34 line\n",
      "35 line\n",
      "36 line\n",
      "37 line\n",
      "38 line\n",
      "39 line\n",
      "40 line\n",
      "41 line\n",
      "42 line\n",
      "43 line\n",
      "44 line\n",
      "45 line\n",
      "46 line\n",
      "47 line\n",
      "48 line\n",
      "49 line\n",
      "50 line\n",
      "51 line\n",
      "52 line\n",
      "53 line\n",
      "54 line\n",
      "55 line\n",
      "56 line\n",
      "57 line\n",
      "58 line\n",
      "59 line\n",
      "60 line\n",
      "61 line\n",
      "62 line\n",
      "63 line\n",
      "64 line\n",
      "65 line\n",
      "66 line\n",
      "67 line\n",
      "68 line\n",
      "69 line\n",
      "70 line\n",
      "71 line\n",
      "72 line\n",
      "73 line\n",
      "74 line\n",
      "75 line\n",
      "76 line\n",
      "77 line\n",
      "78 line\n",
      "79 line\n",
      "80 line\n",
      "81 line\n",
      "82 line\n",
      "83 line\n",
      "84 line\n",
      "85 line\n",
      "86 line\n",
      "87 line\n",
      "88 line\n",
      "89 line\n",
      "90 line\n",
      "91 line\n",
      "92 line\n",
      "93 line\n",
      "94 line\n",
      "95 line\n",
      "96 line\n",
      "97 line\n",
      "98 line\n",
      "99 line\n"
     ]
    }
   ],
   "source": [
    "counter = 0\n",
    "\n",
    "while counter <= 99:\n",
    "    print(counter, 'line')\n",
    "    counter += 1\n"
   ]
  },
  {
   "cell_type": "code",
   "execution_count": 99,
   "id": "7f12dd3d",
   "metadata": {},
   "outputs": [
    {
     "name": "stdout",
     "output_type": "stream",
     "text": [
      "100 line\n",
      "99 line\n",
      "98 line\n",
      "97 line\n",
      "96 line\n",
      "95 line\n",
      "94 line\n",
      "93 line\n",
      "92 line\n",
      "91 line\n",
      "90 line\n"
     ]
    }
   ],
   "source": [
    "counter = 100\n",
    "\n",
    "while counter >= 90:\n",
    "    print(counter,'line')\n",
    "    counter -= 1"
   ]
  },
  {
   "cell_type": "code",
   "execution_count": 100,
   "id": "0fe97d09",
   "metadata": {},
   "outputs": [
    {
     "name": "stdout",
     "output_type": "stream",
     "text": [
      "2023 Year\n",
      "2022 Year\n",
      "2021 Year\n",
      "2020 Year\n",
      "2019 Year\n",
      "2018 Year\n",
      "2017 Year\n",
      "2016 Year\n",
      "2015 Year\n",
      "2014 Year\n",
      "2013 Year\n",
      "2012 Year\n",
      "2011 Year\n",
      "2010 Year\n",
      "2009 Year\n",
      "2008 Year\n",
      "2007 Year\n",
      "2006 Year\n",
      "2005 Year\n",
      "2004 Year\n",
      "2003 Year\n",
      "2002 Year\n"
     ]
    }
   ],
   "source": [
    "counter = 2023\n",
    "\n",
    "while counter >= 2002:\n",
    "    print(counter,'Year')\n",
    "    counter -= 1"
   ]
  },
  {
   "cell_type": "code",
   "execution_count": null,
   "id": "1f7b4d66",
   "metadata": {},
   "outputs": [],
   "source": []
  }
 ],
 "metadata": {
  "kernelspec": {
   "display_name": "Python 3 (ipykernel)",
   "language": "python",
   "name": "python3"
  },
  "language_info": {
   "codemirror_mode": {
    "name": "ipython",
    "version": 3
   },
   "file_extension": ".py",
   "mimetype": "text/x-python",
   "name": "python",
   "nbconvert_exporter": "python",
   "pygments_lexer": "ipython3",
   "version": "3.9.13"
  }
 },
 "nbformat": 4,
 "nbformat_minor": 5
}
