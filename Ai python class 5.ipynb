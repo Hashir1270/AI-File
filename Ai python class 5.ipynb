{
 "cells": [
  {
   "cell_type": "markdown",
   "id": "ee650ea5",
   "metadata": {},
   "source": [
    "# List Data Type\n",
    "* start with []\n"
   ]
  },
  {
   "cell_type": "code",
   "execution_count": 1,
   "id": "2f10dfa3",
   "metadata": {},
   "outputs": [
    {
     "name": "stdout",
     "output_type": "stream",
     "text": [
      "['Alif', 'kashisf', 'hamza', 1000, 2000, 3000, True]\n"
     ]
    }
   ],
   "source": [
    "names = ['Alif', \"kashisf\", 'hamza', 1000, 2000,3000,True]\n",
    "print(names)"
   ]
  },
  {
   "cell_type": "code",
   "execution_count": 6,
   "id": "85cb83b8",
   "metadata": {},
   "outputs": [
    {
     "name": "stdout",
     "output_type": "stream",
     "text": [
      "hamza\n",
      "hamza\n",
      "2000 2000\n"
     ]
    }
   ],
   "source": [
    "# ---->   0        1          2       3      4    5   6\n",
    "names = ['Alif', \"kashisf\", 'hamza', 1000, 2000,3000,True]\n",
    "# <---    -7        -6        -5     -4    -3   -2   -1\n",
    "print(names[2])\n",
    "print(names[-5])\n",
    "print(names[4], names[-3])"
   ]
  },
  {
   "cell_type": "code",
   "execution_count": 8,
   "id": "bf40a4af",
   "metadata": {},
   "outputs": [
    {
     "name": "stdout",
     "output_type": "stream",
     "text": [
      "3000\n",
      "2000\n"
     ]
    }
   ],
   "source": [
    "names = ['Alif', \"kashisf\", 'hamza', 1000, 2000,3000,True]\n",
    "print(names[5])\n",
    "print(names[-3])"
   ]
  },
  {
   "cell_type": "markdown",
   "id": "614d54e1",
   "metadata": {},
   "source": [
    "# old programming code style for printing all array values"
   ]
  },
  {
   "cell_type": "code",
   "execution_count": 9,
   "id": "28898842",
   "metadata": {},
   "outputs": [
    {
     "name": "stdout",
     "output_type": "stream",
     "text": [
      "Alif\n",
      "kashisf\n",
      "hamza\n",
      "1000\n",
      "2000\n",
      "3000\n",
      "True\n"
     ]
    }
   ],
   "source": [
    "names = ['Alif', \"kashisf\", 'hamza', 1000, 2000,3000,True]\n",
    "counter = 0\n",
    "while counter < len(names):\n",
    "    print(names[counter])\n",
    "    counter += 1"
   ]
  },
  {
   "cell_type": "code",
   "execution_count": 11,
   "id": "ca84460e",
   "metadata": {},
   "outputs": [
    {
     "name": "stdout",
     "output_type": "stream",
     "text": [
      "kashisf\n",
      "hamza\n",
      "1000\n",
      "2000\n",
      "3000\n"
     ]
    }
   ],
   "source": [
    "names = ['Alif', \"kashisf\", 'hamza', 1000, 2000,3000,True]\n",
    "counter = 1\n",
    "while counter < 6:\n",
    "    print(names[counter])\n",
    "    counter += 1"
   ]
  },
  {
   "cell_type": "markdown",
   "id": "82a7b927",
   "metadata": {},
   "source": [
    "# now print with python ic Style"
   ]
  },
  {
   "cell_type": "code",
   "execution_count": 16,
   "id": "77028fb1",
   "metadata": {},
   "outputs": [
    {
     "ename": "SyntaxError",
     "evalue": "invalid syntax (1351345521.py, line 3)",
     "output_type": "error",
     "traceback": [
      "\u001b[1;36m  File \u001b[1;32m\"C:\\Users\\Admin\\AppData\\Local\\Temp\\ipykernel_7524\\1351345521.py\"\u001b[1;36m, line \u001b[1;32m3\u001b[0m\n\u001b[1;33m    for name in names\u001b[0m\n\u001b[1;37m                     ^\u001b[0m\n\u001b[1;31mSyntaxError\u001b[0m\u001b[1;31m:\u001b[0m invalid syntax\n"
     ]
    }
   ],
   "source": [
    "names = ['Alif', \"kashisf\", 'hamza', 1000, 2000,3000,True]\n",
    "\n",
    "for name in names\n",
    "print(names)\n"
   ]
  },
  {
   "cell_type": "markdown",
   "id": "c96d09e4",
   "metadata": {},
   "source": [
    "# Slicing"
   ]
  },
  {
   "cell_type": "code",
   "execution_count": 17,
   "id": "721085d4",
   "metadata": {},
   "outputs": [
    {
     "name": "stdout",
     "output_type": "stream",
     "text": [
      "['kashisf', 'hamza', 1000, 2000, 3000]\n",
      "['kashisf', 'hamza', 1000, 2000, 3000]\n"
     ]
    }
   ],
   "source": [
    "# ---->   0        1          2       3      4    5   6\n",
    "names = ['Alif', \"kashisf\", 'hamza', 1000, 2000,3000,True]\n",
    "# <---    -7        -6        -5     -4    -3   -2   -1\n",
    "print(names[1:6])\n",
    "print(names[1:6:1])"
   ]
  },
  {
   "cell_type": "code",
   "execution_count": 21,
   "id": "b1753a9a",
   "metadata": {},
   "outputs": [
    {
     "name": "stdout",
     "output_type": "stream",
     "text": [
      "['Alif', 'kashisf', 'hamza', 1000, 2000, 3000, True]\n",
      "['Alif', 'hamza', 2000, True]\n",
      "['Alif', 1000, True]\n"
     ]
    }
   ],
   "source": [
    "# ---->   0        1          2       3      4    5   6\n",
    "names = ['Alif', \"kashisf\", 'hamza', 1000, 2000,3000,True]\n",
    "# <---    -7        -6        -5     -4    -3   -2   -1\n",
    "print(names[::1])\n",
    "print(names[::2])\n",
    "print(names[::3])"
   ]
  },
  {
   "cell_type": "code",
   "execution_count": 22,
   "id": "4e709c04",
   "metadata": {},
   "outputs": [
    {
     "name": "stdout",
     "output_type": "stream",
     "text": [
      "[True, 3000, 2000, 1000, 'hamza', 'kashisf', 'Alif']\n"
     ]
    }
   ],
   "source": [
    "# ---->   0        1          2       3      4    5   6\n",
    "names = ['Alif', \"kashisf\", 'hamza', 1000, 2000,3000,True]\n",
    "# <---    -7        -6        -5     -4    -3   -2   -1\n",
    "print(names[::-1])"
   ]
  },
  {
   "cell_type": "code",
   "execution_count": 26,
   "id": "38fb39bd",
   "metadata": {},
   "outputs": [
    {
     "name": "stdout",
     "output_type": "stream",
     "text": [
      "[]\n",
      "[2000, 1000, 'hamza', 'kashisf']\n",
      "['Alif', 'kashisf', 'hamza', 1000]\n",
      "[3000, 2000, 1000, 'hamza', 'kashisf']\n"
     ]
    }
   ],
   "source": [
    "# ---->   0        1          2       3      4    5   6\n",
    "names = ['Alif', \"kashisf\", 'hamza', 1000, 2000,3000,True]\n",
    "# <---    -7        -6        -5     -4    -3   -2   -1\n",
    "print(names[4:-7])\n",
    "print(names[4:-7:-1])\n",
    "print(names[-7:4])\n",
    "\n",
    "print(names[5:-7:-1])"
   ]
  },
  {
   "cell_type": "code",
   "execution_count": 42,
   "id": "97003d81",
   "metadata": {},
   "outputs": [
    {
     "name": "stdout",
     "output_type": "stream",
     "text": [
      "[2000, 3000, True]\n",
      "['Alif', 'kashisf', 'hamza']\n",
      "['Alif', 'kashisf', 'hamza']\n",
      "['Alif', 'kashisf', 'hamza']\n"
     ]
    }
   ],
   "source": [
    "# ---->   0        1          2       3      4    5    6\n",
    "names = ['Alif', \"kashisf\", 'hamza', 1000, 2000,3000,True]\n",
    "# <---    -7        -6        -5     -4    -3   -2   -1\n",
    "print(names[-3:])\n",
    "print(names[0:3])\n",
    "print(names[0:3:1])\n",
    "print(names[0:3:1])"
   ]
  },
  {
   "cell_type": "markdown",
   "id": "f7fa61a8",
   "metadata": {},
   "source": [
    "# Apply operators on list data type"
   ]
  },
  {
   "cell_type": "code",
   "execution_count": 39,
   "id": "d32a2500",
   "metadata": {},
   "outputs": [
    {
     "data": {
      "text/plain": [
       "['pakistan', 2000, 3000, 'abc', 'xyz']"
      ]
     },
     "execution_count": 39,
     "metadata": {},
     "output_type": "execute_result"
    }
   ],
   "source": [
    "l1 = ['pakistan',2000,3000]\n",
    "l2 = ['abc','xyz']\n",
    "l1 + l2"
   ]
  },
  {
   "cell_type": "code",
   "execution_count": 40,
   "id": "59f80305",
   "metadata": {},
   "outputs": [
    {
     "data": {
      "text/plain": [
       "['pakistan',\n",
       " 2000,\n",
       " 3000,\n",
       " 'pakistan',\n",
       " 2000,\n",
       " 3000,\n",
       " 'pakistan',\n",
       " 2000,\n",
       " 3000,\n",
       " 'pakistan',\n",
       " 2000,\n",
       " 3000]"
      ]
     },
     "execution_count": 40,
     "metadata": {},
     "output_type": "execute_result"
    }
   ],
   "source": [
    "l1 * 4"
   ]
  },
  {
   "cell_type": "code",
   "execution_count": 43,
   "id": "73c36f70",
   "metadata": {},
   "outputs": [
    {
     "data": {
      "text/plain": [
       "'PakistanPakistanPakistanPakistanPakistan'"
      ]
     },
     "execution_count": 43,
     "metadata": {},
     "output_type": "execute_result"
    }
   ],
   "source": [
    "\"Pakistan\" * 5"
   ]
  },
  {
   "cell_type": "markdown",
   "id": "f243b07e",
   "metadata": {},
   "source": [
    "# List data type methods"
   ]
  },
  {
   "cell_type": "code",
   "execution_count": 45,
   "id": "43f74c13",
   "metadata": {},
   "outputs": [
    {
     "data": {
      "text/plain": [
       "['append',\n",
       " 'clear',\n",
       " 'copy',\n",
       " 'count',\n",
       " 'extend',\n",
       " 'index',\n",
       " 'insert',\n",
       " 'pop',\n",
       " 'remove',\n",
       " 'reverse',\n",
       " 'sort']"
      ]
     },
     "execution_count": 45,
     "metadata": {},
     "output_type": "execute_result"
    }
   ],
   "source": [
    "[ i for i in dir(list) if \"_\" not in i]"
   ]
  },
  {
   "cell_type": "code",
   "execution_count": 46,
   "id": "b0d2719b",
   "metadata": {},
   "outputs": [
    {
     "name": "stdout",
     "output_type": "stream",
     "text": [
      "['Asif', 'Hamza', 'Kashif']\n"
     ]
    }
   ],
   "source": [
    "names = []\n",
    "names.append(\"Asif\")\n",
    "names.append(\"Hamza\")\n",
    "names.append(\"Kashif\")\n",
    "print(names)\n"
   ]
  },
  {
   "cell_type": "code",
   "execution_count": 47,
   "id": "f086bb87",
   "metadata": {},
   "outputs": [
    {
     "data": {
      "text/plain": [
       "'Kashif'"
      ]
     },
     "execution_count": 47,
     "metadata": {},
     "output_type": "execute_result"
    }
   ],
   "source": [
    "names [-1]"
   ]
  },
  {
   "cell_type": "code",
   "execution_count": 52,
   "id": "635c2d3a",
   "metadata": {},
   "outputs": [
    {
     "name": "stdout",
     "output_type": "stream",
     "text": [
      "['pakistan', 2000, 3000]\n",
      "[]\n"
     ]
    }
   ],
   "source": [
    "l1 = ['pakistan',2000,3000]\n",
    "print(l1)\n",
    "l1.clear()\n",
    "\n",
    "print(l1)"
   ]
  },
  {
   "cell_type": "code",
   "execution_count": 53,
   "id": "d9161f9e",
   "metadata": {},
   "outputs": [
    {
     "name": "stdout",
     "output_type": "stream",
     "text": [
      "['abc', 4000]\n",
      "['abc', 4000]\n"
     ]
    }
   ],
   "source": [
    "l1 = ['pakistan',2000,3000]\n",
    "l1 = l2\n",
    "l2[1] = 4000\n",
    "\n",
    "print(l1)\n",
    "print(l2)"
   ]
  },
  {
   "cell_type": "code",
   "execution_count": 55,
   "id": "e56f145c",
   "metadata": {},
   "outputs": [
    {
     "name": "stdout",
     "output_type": "stream",
     "text": [
      "['pakistan', 2000, 3000]\n",
      "['pakistan', 4000, 3000]\n"
     ]
    }
   ],
   "source": [
    "l1 = ['pakistan',2000,3000]\n",
    "l2 = l1.copy()\n",
    "l2[1] = 4000\n",
    "\n",
    "print(l1)\n",
    "print(l2)"
   ]
  },
  {
   "cell_type": "code",
   "execution_count": 59,
   "id": "5b9a8622",
   "metadata": {},
   "outputs": [
    {
     "data": {
      "text/plain": [
       "2"
      ]
     },
     "execution_count": 59,
     "metadata": {},
     "output_type": "execute_result"
    }
   ],
   "source": [
    "l1 = ['a','b','c','a','x','x']\n",
    "l1.count(\"x\")"
   ]
  },
  {
   "cell_type": "code",
   "execution_count": 61,
   "id": "d7dbc8ce",
   "metadata": {},
   "outputs": [
    {
     "name": "stdout",
     "output_type": "stream",
     "text": [
      "['Asif', 'Hamza', 1, 2, 3]\n"
     ]
    }
   ],
   "source": [
    "names = []\n",
    "names.append(\"Asif\")\n",
    "names.append(\"Hamza\")\n",
    "names.extend([1,2,3])\n",
    "print(names)"
   ]
  },
  {
   "cell_type": "code",
   "execution_count": 64,
   "id": "10328852",
   "metadata": {},
   "outputs": [
    {
     "name": "stdout",
     "output_type": "stream",
     "text": [
      "[1, 2, 3, 4, 'a', 'b', 'c', 'd'] ['a', 'b', 'c', 'd']\n"
     ]
    }
   ],
   "source": [
    "l1 = [1,2,3,4]\n",
    "l2 = ['a','b','c','d']\n",
    "l1 + l2\n",
    "l1.extend(l2)\n",
    "print(l1,l2)"
   ]
  },
  {
   "cell_type": "code",
   "execution_count": 76,
   "id": "ac697559",
   "metadata": {},
   "outputs": [
    {
     "name": "stdout",
     "output_type": "stream",
     "text": [
      "4\n",
      "3\n"
     ]
    }
   ],
   "source": [
    "l1 = ['a','b','c','a','x','x']\n",
    "l1.index('x')\n",
    "l1.index('a',3)\n",
    "print(l1.index('x'))\n",
    "print(l1.index('a',3))\n",
    "\n"
   ]
  },
  {
   "cell_type": "code",
   "execution_count": 77,
   "id": "7e584247",
   "metadata": {},
   "outputs": [
    {
     "name": "stdout",
     "output_type": "stream",
     "text": [
      "['a', 'Pakistan', 'b', 'c', 'a', 'x', 'x']\n"
     ]
    }
   ],
   "source": [
    "l1 = ['a','b','c','a','x','x']\n",
    "l1.insert(1,'Pakistan')\n",
    "print(l1)"
   ]
  },
  {
   "cell_type": "code",
   "execution_count": 81,
   "id": "dff7ff6e",
   "metadata": {},
   "outputs": [
    {
     "name": "stdout",
     "output_type": "stream",
     "text": [
      "['a', 'b', 'c', 'a', 'x']\n",
      "['a', 'b', 'c', 'a']\n",
      "['a', 'b', 'c']\n",
      "['b', 'c']\n"
     ]
    }
   ],
   "source": [
    "l1 = ['a','b','c','a','x','x']\n",
    "l1.pop()\n",
    "print(l1)\n",
    "l1.pop()\n",
    "print(l1)\n",
    "l1.pop()\n",
    "print(l1)\n",
    "l1.pop(0)\n",
    "print(l1)"
   ]
  },
  {
   "cell_type": "code",
   "execution_count": 83,
   "id": "ee7a009e",
   "metadata": {},
   "outputs": [
    {
     "name": "stdout",
     "output_type": "stream",
     "text": [
      "['a', 'b', 'c', 'a', 'x']\n",
      "['a', 'b', 'c', 'a']\n",
      "['a', 'b', 'c']\n",
      "['b', 'c']\n",
      "completed list ['x', 'x', 'a', 'a']\n"
     ]
    }
   ],
   "source": [
    "l1 = ['a','b','c','a','x','x']\n",
    "l2 = []\n",
    "l2.append(l1.pop())\n",
    "print(l1)\n",
    "l2.append(l1.pop())\n",
    "print(l1)\n",
    "l2.append(l1.pop())\n",
    "print(l1)\n",
    "l2.append(l1.pop(0))\n",
    "print(l1)\n",
    "print(\"completed list\",l2)"
   ]
  },
  {
   "cell_type": "code",
   "execution_count": 84,
   "id": "f97c9296",
   "metadata": {},
   "outputs": [
    {
     "name": "stdout",
     "output_type": "stream",
     "text": [
      "['a', 'a', 'b', 'c', 'x', 'x']\n"
     ]
    }
   ],
   "source": [
    "l1 = ['a','b','c','a','x','x']\n",
    "l1.sort()\n",
    "\n",
    "print(l1)"
   ]
  },
  {
   "cell_type": "code",
   "execution_count": 85,
   "id": "2cd6faa2",
   "metadata": {},
   "outputs": [
    {
     "name": "stdout",
     "output_type": "stream",
     "text": [
      "['x', 'x', 'a', 'c', 'b', 'a']\n"
     ]
    }
   ],
   "source": [
    "l1 = ['a','b','c','a','x','x']\n",
    "l1.reverse()\n",
    "\n",
    "print(l1)"
   ]
  },
  {
   "cell_type": "code",
   "execution_count": 86,
   "id": "13f5edba",
   "metadata": {},
   "outputs": [
    {
     "name": "stdout",
     "output_type": "stream",
     "text": [
      "['x', 'x', 'c', 'b', 'a', 'a']\n"
     ]
    }
   ],
   "source": [
    "l1 = ['a','b','c','a','x','x']\n",
    "l1.sort()\n",
    "l1.reverse()\n",
    "\n",
    "print(l1)"
   ]
  },
  {
   "cell_type": "code",
   "execution_count": null,
   "id": "79d8f8f8",
   "metadata": {},
   "outputs": [],
   "source": [
    "l1 = ['a','b','c','a','x','x']\n",
    "l1.sort(reverse)\n",
    "print(l1)"
   ]
  },
  {
   "cell_type": "markdown",
   "id": "d5ccd604",
   "metadata": {},
   "source": [
    "# Remove value from list search with string"
   ]
  },
  {
   "cell_type": "code",
   "execution_count": null,
   "id": "a9b5c5db",
   "metadata": {},
   "outputs": [],
   "source": [
    "l1 = ['a','b','c','a','x','x']\n",
    "\n",
    "remove_item = input(\"Enter item: \")\n",
    "index = l1.index(remove_item)\n",
    "print(remove_item,type(remove_item))\n",
    "print(indx,type(indx))\n",
    "l1.pop(indx)\n",
    "\n",
    "print(l1)"
   ]
  },
  {
   "cell_type": "code",
   "execution_count": null,
   "id": "6bc1d948",
   "metadata": {},
   "outputs": [],
   "source": [
    "l1 = ['a','b','c','a','x','x']\n",
    "remove_item = input(\"Enter item: \")\n",
    "\n",
    "\n",
    "l1.remove(remove_item)\n",
    "print(l1)"
   ]
  },
  {
   "cell_type": "code",
   "execution_count": null,
   "id": "53d4fa8c",
   "metadata": {},
   "outputs": [],
   "source": [
    "i for ['a','b','c','a','x','x']\n",
    "print(i)"
   ]
  },
  {
   "cell_type": "code",
   "execution_count": null,
   "id": "476440db",
   "metadata": {},
   "outputs": [],
   "source": []
  }
 ],
 "metadata": {
  "kernelspec": {
   "display_name": "Python 3 (ipykernel)",
   "language": "python",
   "name": "python3"
  },
  "language_info": {
   "codemirror_mode": {
    "name": "ipython",
    "version": 3
   },
   "file_extension": ".py",
   "mimetype": "text/x-python",
   "name": "python",
   "nbconvert_exporter": "python",
   "pygments_lexer": "ipython3",
   "version": "3.9.13"
  }
 },
 "nbformat": 4,
 "nbformat_minor": 5
}
