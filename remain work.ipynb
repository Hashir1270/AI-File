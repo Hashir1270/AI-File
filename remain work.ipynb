{
 "cells": [
  {
   "cell_type": "code",
   "execution_count": null,
   "id": "06b10bfa",
   "metadata": {},
   "outputs": [
    {
     "name": "stdout",
     "output_type": "stream",
     "text": [
      "Enter student Namebilal\n",
      "Enter student NameHashis\n",
      "Enter student Nameyousuf\n",
      "Enter student NameWaleed\n",
      "Enter student Name\n",
      "Enter student Name\n"
     ]
    }
   ],
   "source": [
    "while True:\n",
    "    name = input(\"Enter student Name\")\n",
    "    if name.lower()== 'exit' or name.lower() == 'x':\n",
    "        break\n",
    "        with open('studentName.txt', 'a') as f:\n",
    "            f,write(name/+n)"
   ]
  },
  {
   "cell_type": "code",
   "execution_count": null,
   "id": "5d75fe5b",
   "metadata": {},
   "outputs": [],
   "source": [
    "open(\"./File1.txt\")"
   ]
  },
  {
   "cell_type": "code",
   "execution_count": null,
   "id": "aa7dfe9d",
   "metadata": {},
   "outputs": [],
   "source": []
  }
 ],
 "metadata": {
  "kernelspec": {
   "display_name": "Python 3 (ipykernel)",
   "language": "python",
   "name": "python3"
  },
  "language_info": {
   "codemirror_mode": {
    "name": "ipython",
    "version": 3
   },
   "file_extension": ".py",
   "mimetype": "text/x-python",
   "name": "python",
   "nbconvert_exporter": "python",
   "pygments_lexer": "ipython3",
   "version": "3.9.13"
  }
 },
 "nbformat": 4,
 "nbformat_minor": 5
}
