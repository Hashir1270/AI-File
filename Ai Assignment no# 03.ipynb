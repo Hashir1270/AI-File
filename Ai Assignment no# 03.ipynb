{
 "cells": [
  {
   "cell_type": "markdown",
   "id": "86435602",
   "metadata": {},
   "source": [
    "# Assignment 03\n",
    "# Applying 45 strong class method or card variable"
   ]
  },
  {
   "cell_type": "markdown",
   "id": "9a13aede",
   "metadata": {},
   "source": [
    "# Frist using a contcational methods\n",
    "* +\n",
    "* variable_name.format (var1,var2,var3)\n",
    "* 'f' 'student name: {var1}'\n",
    "* '%' 'student name:{var1}'"
   ]
  },
  {
   "cell_type": "code",
   "execution_count": 2,
   "id": "e7b700c5",
   "metadata": {},
   "outputs": [
    {
     "name": "stdout",
     "output_type": "stream",
     "text": [
      "Institude_name: Sylani Mass IT Training\n",
      "student Full Name: Muhammad Hashir Ahmed\n",
      "Age: 21\n",
      "id_number: 119859\n"
     ]
    }
   ],
   "source": [
    "first_name= \"Muhammad\"\n",
    "last_name = \"Hashir Ahmed\"\n",
    "institude_name = \"Sylani Mass IT Training\"\n",
    "age = 21\n",
    "id_number = 119859\n",
    "card = \"Institude_name: \" + institude_name + \"\\nstudent Full Name: \" + first_name+ \" \" + last_name+ \"\\nAge: \" +str(age)+ \"\\nid_number: \" +str(id_number)\n",
    "print(card)"
   ]
  },
  {
   "cell_type": "code",
   "execution_count": 6,
   "id": "bff40e30",
   "metadata": {},
   "outputs": [
    {
     "name": "stdout",
     "output_type": "stream",
     "text": [
      "Institude Name: Sylani Mass IT Training\n",
      "Student Full Name: Muhammad Hashir\n",
      "age: 21\n",
      "id_number: 119859\n"
     ]
    }
   ],
   "source": [
    "first_name= \"Muhammad\"\n",
    "last_name = \"Hashir\"\n",
    "institude_name = \"Sylani Mass IT Training\"\n",
    "age = 21\n",
    "id_number = 119859\n",
    "\n",
    "card = \"\"\"Institude Name: {}\n",
    "Student Full Name: {} {}\n",
    "age: {}\n",
    "id_number: {}\"\"\".format(institude_name,first_name,last_name,age,id_number)\n",
    "#                         0              1           3       4    5\n",
    "print(card)"
   ]
  },
  {
   "cell_type": "code",
   "execution_count": 9,
   "id": "e3ff1738",
   "metadata": {},
   "outputs": [
    {
     "name": "stdout",
     "output_type": "stream",
     "text": [
      "Institude Name: Sylani Mass IT Training\n",
      "Student Full Name: Muhammad Hashir Ahmed\n",
      "Age: 21 \n",
      "Enrollment_id: 119859\n",
      "\n"
     ]
    }
   ],
   "source": [
    "first_name= \"Muhammad\"\n",
    "last_name = \"Hashir Ahmed\"\n",
    "institude_name = \"Sylani Mass IT Training\"\n",
    "age = 21\n",
    "id_number = 119859\n",
    "\n",
    "\n",
    "card = F\"\"\"Institude Name: {institude_name}\n",
    "Student Full Name: {first_name} {last_name}\n",
    "Age: {age} \n",
    "Enrollment_id: {id_number}\n",
    "\"\"\"\n",
    "print(card)"
   ]
  },
  {
   "cell_type": "code",
   "execution_count": 11,
   "id": "2e40d78f",
   "metadata": {},
   "outputs": [
    {
     "name": "stdout",
     "output_type": "stream",
     "text": [
      "Institude Name: Sylani Mass IT Training\n",
      "Student Full Name: Muhammad Hashir Ahmed\n",
      "Age: 21 \n",
      "Enrollment_id: 119859 \n",
      "\n"
     ]
    }
   ],
   "source": [
    "first_name= \"Muhammad\"\n",
    "last_name = \"Hashir Ahmed\"\n",
    "institude_name = \"Sylani Mass IT Training\"\n",
    "age = 21\n",
    "id_number = 119859\n",
    "\n",
    "\n",
    "card = \"\"\"Institude Name: %s\n",
    "Student Full Name: %s %s\n",
    "Age: %d \n",
    "Enrollment_id: %d \n",
    "\"\"\" % (institude_name, first_name, last_name,age,id_number)\n",
    "print(card)"
   ]
  },
  {
   "cell_type": "markdown",
   "id": "b77b54ac",
   "metadata": {},
   "source": [
    "# 45 strong Class Method"
   ]
  },
  {
   "cell_type": "code",
   "execution_count": 12,
   "id": "e5ed1986",
   "metadata": {},
   "outputs": [
    {
     "name": "stdout",
     "output_type": "stream",
     "text": [
      "0 capitalize\n",
      "1 casefold\n",
      "2 center\n",
      "3 count\n",
      "4 encode\n",
      "5 endswith\n",
      "6 expandtabs\n",
      "7 find\n",
      "8 format\n",
      "9 index\n",
      "10 isalnum\n",
      "11 isalpha\n",
      "12 isascii\n",
      "13 isdecimal\n",
      "14 isdigit\n",
      "15 isidentifier\n",
      "16 islower\n",
      "17 isnumeric\n",
      "18 isprintable\n",
      "19 isspace\n",
      "20 istitle\n",
      "21 isupper\n",
      "22 join\n",
      "23 ljust\n",
      "24 lower\n",
      "25 lstrip\n",
      "26 maketrans\n",
      "27 partition\n",
      "28 removeprefix\n",
      "29 removesuffix\n",
      "30 replace\n",
      "31 rfind\n",
      "32 rindex\n",
      "33 rjust\n",
      "34 rpartition\n",
      "35 rsplit\n",
      "36 rstrip\n",
      "37 split\n",
      "38 splitlines\n",
      "39 startswith\n",
      "40 strip\n",
      "41 swapcase\n",
      "42 title\n",
      "43 translate\n",
      "44 upper\n",
      "45 zfill\n"
     ]
    }
   ],
   "source": [
    "for  idx, i in enumerate([i for i in dir(card) if \"_\" not in i]):\n",
    "    print(idx,i)"
   ]
  },
  {
   "cell_type": "code",
   "execution_count": 14,
   "id": "52b2bbe6",
   "metadata": {},
   "outputs": [
    {
     "name": "stdout",
     "output_type": "stream",
     "text": [
      "You are hired\n"
     ]
    }
   ],
   "source": [
    "Mail = \"you are hired\"\n",
    "print(Mail.capitalize())"
   ]
  },
  {
   "cell_type": "code",
   "execution_count": 15,
   "id": "36e6b28e",
   "metadata": {},
   "outputs": [
    {
     "name": "stdout",
     "output_type": "stream",
     "text": [
      "you are hired\n"
     ]
    }
   ],
   "source": [
    "print(Mail.casefold())"
   ]
  },
  {
   "cell_type": "code",
   "execution_count": 16,
   "id": "65193aa9",
   "metadata": {},
   "outputs": [
    {
     "ename": "TypeError",
     "evalue": "center expected at least 1 argument, got 0",
     "output_type": "error",
     "traceback": [
      "\u001b[1;31m---------------------------------------------------------------------------\u001b[0m",
      "\u001b[1;31mTypeError\u001b[0m                                 Traceback (most recent call last)",
      "\u001b[1;32m~\\AppData\\Local\\Temp\\ipykernel_8940\\1263850719.py\u001b[0m in \u001b[0;36m<module>\u001b[1;34m\u001b[0m\n\u001b[1;32m----> 1\u001b[1;33m \u001b[0mprint\u001b[0m\u001b[1;33m(\u001b[0m\u001b[0mMail\u001b[0m\u001b[1;33m.\u001b[0m\u001b[0mcenter\u001b[0m\u001b[1;33m(\u001b[0m\u001b[1;33m)\u001b[0m\u001b[1;33m)\u001b[0m\u001b[1;33m\u001b[0m\u001b[1;33m\u001b[0m\u001b[0m\n\u001b[0m",
      "\u001b[1;31mTypeError\u001b[0m: center expected at least 1 argument, got 0"
     ]
    }
   ],
   "source": [
    "print(Mail.center())"
   ]
  },
  {
   "cell_type": "code",
   "execution_count": 17,
   "id": "50dd7393",
   "metadata": {},
   "outputs": [
    {
     "ename": "NameError",
     "evalue": "name 'center' is not defined",
     "output_type": "error",
     "traceback": [
      "\u001b[1;31m---------------------------------------------------------------------------\u001b[0m",
      "\u001b[1;31mNameError\u001b[0m                                 Traceback (most recent call last)",
      "\u001b[1;32m~\\AppData\\Local\\Temp\\ipykernel_8940\\276286343.py\u001b[0m in \u001b[0;36m<module>\u001b[1;34m\u001b[0m\n\u001b[1;32m----> 1\u001b[1;33m \u001b[0mhelp\u001b[0m\u001b[1;33m(\u001b[0m\u001b[0mcenter\u001b[0m\u001b[1;33m)\u001b[0m\u001b[1;33m\u001b[0m\u001b[1;33m\u001b[0m\u001b[0m\n\u001b[0m",
      "\u001b[1;31mNameError\u001b[0m: name 'center' is not defined"
     ]
    }
   ],
   "source": [
    "help(center)"
   ]
  },
  {
   "cell_type": "code",
   "execution_count": 39,
   "id": "c8609ba4",
   "metadata": {},
   "outputs": [
    {
     "name": "stdout",
     "output_type": "stream",
     "text": [
      "#you are hired#\n"
     ]
    }
   ],
   "source": [
    "Mail = \"you are hired\"\n",
    "before = Mail.center(15,\"#\")\n",
    "print(before)"
   ]
  },
  {
   "cell_type": "code",
   "execution_count": 36,
   "id": "a29e6f8c",
   "metadata": {},
   "outputs": [
    {
     "data": {
      "text/plain": [
       "13"
      ]
     },
     "execution_count": 36,
     "metadata": {},
     "output_type": "execute_result"
    }
   ],
   "source": [
    "len(Mail)"
   ]
  },
  {
   "cell_type": "code",
   "execution_count": 42,
   "id": "6be504e5",
   "metadata": {},
   "outputs": [
    {
     "name": "stdout",
     "output_type": "stream",
     "text": [
      "1\n"
     ]
    }
   ],
   "source": [
    "Mail = \"you are hired\"\n",
    "print(Mail.count(\"a\"))"
   ]
  },
  {
   "cell_type": "code",
   "execution_count": 43,
   "id": "827e1eca",
   "metadata": {},
   "outputs": [
    {
     "ename": "NameError",
     "evalue": "name 'encode' is not defined",
     "output_type": "error",
     "traceback": [
      "\u001b[1;31m---------------------------------------------------------------------------\u001b[0m",
      "\u001b[1;31mNameError\u001b[0m                                 Traceback (most recent call last)",
      "\u001b[1;32m~\\AppData\\Local\\Temp\\ipykernel_8940\\3596909641.py\u001b[0m in \u001b[0;36m<module>\u001b[1;34m\u001b[0m\n\u001b[1;32m----> 1\u001b[1;33m \u001b[0mhelp\u001b[0m\u001b[1;33m(\u001b[0m\u001b[0mencode\u001b[0m\u001b[1;33m)\u001b[0m\u001b[1;33m\u001b[0m\u001b[1;33m\u001b[0m\u001b[0m\n\u001b[0m",
      "\u001b[1;31mNameError\u001b[0m: name 'encode' is not defined"
     ]
    }
   ],
   "source": [
    "help(encode)"
   ]
  },
  {
   "cell_type": "code",
   "execution_count": 46,
   "id": "c8b93901",
   "metadata": {},
   "outputs": [
    {
     "name": "stdout",
     "output_type": "stream",
     "text": [
      "b'you are hired'\n"
     ]
    }
   ],
   "source": [
    "Mail = \"you are hired\"\n",
    "x = Mail.encode()\n",
    "print(x)"
   ]
  },
  {
   "cell_type": "code",
   "execution_count": null,
   "id": "97ab7ad2",
   "metadata": {},
   "outputs": [],
   "source": []
  }
 ],
 "metadata": {
  "kernelspec": {
   "display_name": "Python 3 (ipykernel)",
   "language": "python",
   "name": "python3"
  },
  "language_info": {
   "codemirror_mode": {
    "name": "ipython",
    "version": 3
   },
   "file_extension": ".py",
   "mimetype": "text/x-python",
   "name": "python",
   "nbconvert_exporter": "python",
   "pygments_lexer": "ipython3",
   "version": "3.9.13"
  }
 },
 "nbformat": 4,
 "nbformat_minor": 5
}
