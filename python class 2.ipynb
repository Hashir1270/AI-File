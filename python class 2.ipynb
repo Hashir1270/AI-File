{
 "cells": [
  {
   "cell_type": "markdown",
   "id": "6e7f81d8-71c2-422f-ba80-b12e455cb320",
   "metadata": {
    "tags": []
   },
   "source": [
    "# class 2 \n",
    "* Help\n",
    " * Help Function\n",
    " * Function?\n",
    " * function??\n",
    " * ?function\n",
    " * ??function\n",
    "* Print\n",
    " * value\n",
    " * sep\n",
    " * end\n",
    " * variable\n",
    " * string"
   ]
  },
  {
   "cell_type": "code",
   "execution_count": 12,
   "id": "15074eca-3829-46d1-a547-a80fd7406f29",
   "metadata": {},
   "outputs": [
    {
     "name": "stdout",
     "output_type": "stream",
     "text": [
      "The Zen of Python, by Tim Peters\n",
      "\n",
      "Beautiful is better than ugly.\n",
      "Explicit is better than implicit.\n",
      "Simple is better than complex.\n",
      "Complex is better than complicated.\n",
      "Flat is better than nested.\n",
      "Sparse is better than dense.\n",
      "Readability counts.\n",
      "Special cases aren't special enough to break the rules.\n",
      "Although practicality beats purity.\n",
      "Errors should never pass silently.\n",
      "Unless explicitly silenced.\n",
      "In the face of ambiguity, refuse the temptation to guess.\n",
      "There should be one-- and preferably only one --obvious way to do it.\n",
      "Although that way may not be obvious at first unless you're Dutch.\n",
      "Now is better than never.\n",
      "Although never is often better than *right* now.\n",
      "If the implementation is hard to explain, it's a bad idea.\n",
      "If the implementation is easy to explain, it may be a good idea.\n",
      "Namespaces are one honking great idea -- let's do more of those!\n"
     ]
    }
   ],
   "source": [
    "import this"
   ]
  },
  {
   "cell_type": "code",
   "execution_count": 11,
   "id": "5a3672c9-a791-408f-bab5-80a9371ed774",
   "metadata": {},
   "outputs": [
    {
     "data": {
      "text/plain": [
       "\u001b[1;31mDocstring:\u001b[0m\n",
       "print(value, ..., sep=' ', end='\\n', file=sys.stdout, flush=False)\n",
       "\n",
       "Prints the values to a stream, or to sys.stdout by default.\n",
       "Optional keyword arguments:\n",
       "file:  a file-like object (stream); defaults to the current sys.stdout.\n",
       "sep:   string inserted between values, default a space.\n",
       "end:   string appended after the last value, default a newline.\n",
       "flush: whether to forcibly flush the stream.\n",
       "\u001b[1;31mType:\u001b[0m      builtin_function_or_method\n"
      ]
     },
     "metadata": {},
     "output_type": "display_data"
    }
   ],
   "source": [
    "print?"
   ]
  },
  {
   "cell_type": "code",
   "execution_count": 11,
   "id": "9dc86cf0-56e0-4489-a538-9b1f2750cb85",
   "metadata": {},
   "outputs": [
    {
     "data": {
      "text/plain": [
       "\u001b[1;31mDocstring:\u001b[0m\n",
       "print(value, ..., sep=' ', end='\\n', file=sys.stdout, flush=False)\n",
       "\n",
       "Prints the values to a stream, or to sys.stdout by default.\n",
       "Optional keyword arguments:\n",
       "file:  a file-like object (stream); defaults to the current sys.stdout.\n",
       "sep:   string inserted between values, default a space.\n",
       "end:   string appended after the last value, default a newline.\n",
       "flush: whether to forcibly flush the stream.\n",
       "\u001b[1;31mType:\u001b[0m      builtin_function_or_method\n"
      ]
     },
     "metadata": {},
     "output_type": "display_data"
    }
   ],
   "source": [
    "print?"
   ]
  },
  {
   "cell_type": "markdown",
   "id": "48b81ad2-cff0-4e3a-b87a-f73c49e27a4d",
   "metadata": {
    "tags": []
   },
   "source": [
    "# pass value in print function"
   ]
  },
  {
   "cell_type": "code",
   "execution_count": 3,
   "id": "9fb9838a-dd08-4cd7-bc31-e414417f013c",
   "metadata": {},
   "outputs": [
    {
     "name": "stdout",
     "output_type": "stream",
     "text": [
      "A B C D\n"
     ]
    }
   ],
   "source": [
    "print(\"A\",\"B\",\"C\",\"D\")"
   ]
  },
  {
   "cell_type": "code",
   "execution_count": 4,
   "id": "f2c0e948-92c1-4918-a423-6b1eb6487ae8",
   "metadata": {},
   "outputs": [
    {
     "name": "stdout",
     "output_type": "stream",
     "text": [
      "A*B*C*D\n"
     ]
    }
   ],
   "source": [
    "print(\"A\",\"B\",\"C\",\"D\",sep='*')"
   ]
  },
  {
   "cell_type": "code",
   "execution_count": 5,
   "id": "c104bb42-2dc6-471a-ad3c-f7e704925124",
   "metadata": {},
   "outputs": [
    {
     "name": "stdout",
     "output_type": "stream",
     "text": [
      "A****B****C****D\n"
     ]
    }
   ],
   "source": [
    "print(\"A\",\"B\",\"C\",\"D\",sep='****')"
   ]
  },
  {
   "cell_type": "code",
   "execution_count": 6,
   "id": "a4a5e002-7764-4ae3-ae54-503f900693d4",
   "metadata": {},
   "outputs": [
    {
     "name": "stdout",
     "output_type": "stream",
     "text": [
      "1 2.5 3 8 9 20 A B\n"
     ]
    }
   ],
   "source": [
    "print(1,2.5,3,8,9,20,\"A\",\"B\")"
   ]
  },
  {
   "cell_type": "code",
   "execution_count": 7,
   "id": "e8aac065-f16e-4781-abc8-5e8a0e98d5aa",
   "metadata": {},
   "outputs": [
    {
     "name": "stdout",
     "output_type": "stream",
     "text": [
      "Line1\n",
      "Line2\n",
      "Line3\n"
     ]
    }
   ],
   "source": [
    "print(\"Line1\")\n",
    "print(\"Line2\")\n",
    "print(\"Line3\")"
   ]
  },
  {
   "cell_type": "code",
   "execution_count": 8,
   "id": "a6d17952-1521-4037-9e58-678adedc3665",
   "metadata": {},
   "outputs": [
    {
     "name": "stdout",
     "output_type": "stream",
     "text": [
      "Line1 A\n",
      "Line2 B\n",
      "Line3 C\n"
     ]
    }
   ],
   "source": [
    "print(\"Line1\",\"A\")\n",
    "print(\"Line2\",\"B\")\n",
    "print(\"Line3\",\"C\")"
   ]
  },
  {
   "cell_type": "code",
   "execution_count": 9,
   "id": "cd4f12ae-cbe0-4525-9439-1180b6648c79",
   "metadata": {},
   "outputs": [
    {
     "name": "stdout",
     "output_type": "stream",
     "text": [
      "Line1>>>>Line2>>>>Line3>>>>"
     ]
    }
   ],
   "source": [
    "print(\"Line1\", end='>>>>')\n",
    "print(\"Line2\", end='>>>>')\n",
    "print(\"Line3\", end='>>>>')"
   ]
  },
  {
   "cell_type": "code",
   "execution_count": 10,
   "id": "18f52453-d583-4b5e-9c21-9b8e96497e29",
   "metadata": {},
   "outputs": [
    {
     "name": "stdout",
     "output_type": "stream",
     "text": [
      "Line1 A\n",
      "Line2 B\n",
      "Line3 C\n"
     ]
    }
   ],
   "source": [
    "print(\"Line1\",\"A\")\n",
    "print(\"Line2\",\"B\")\n",
    "print(\"Line3\",\"C\")"
   ]
  },
  {
   "cell_type": "markdown",
   "id": "7f2503e3-ffe0-498e-8a4c-a35299d303e3",
   "metadata": {},
   "source": [
    "# Variable"
   ]
  },
  {
   "cell_type": "code",
   "execution_count": 17,
   "id": "6997dc3b-7e87-4f18-b1d9-f990b4533f56",
   "metadata": {},
   "outputs": [
    {
     "ename": "SyntaxError",
     "evalue": "invalid syntax (433336212.py, line 1)",
     "output_type": "error",
     "traceback": [
      "\u001b[1;36m  File \u001b[1;32m\"C:\\Users\\Admin\\AppData\\Local\\Temp\\ipykernel_2304\\433336212.py\"\u001b[1;36m, line \u001b[1;32m1\u001b[0m\n\u001b[1;33m    >img scr=(\"C:\\Users\\Admin\\Downloads\\1.jpg\")\u001b[0m\n\u001b[1;37m    ^\u001b[0m\n\u001b[1;31mSyntaxError\u001b[0m\u001b[1;31m:\u001b[0m invalid syntax\n"
     ]
    }
   ],
   "source": [
    ">img scr=(\"C:\\Users\\Admin\\Downloads\\1.jpg\")"
   ]
  },
  {
   "cell_type": "code",
   "execution_count": 18,
   "id": "ceb31722-091e-4477-b376-dde9bd141250",
   "metadata": {},
   "outputs": [
    {
     "name": "stdout",
     "output_type": "stream",
     "text": [
      "Muhammad Hashir\n",
      "Muhammad Hashir\n",
      "Muhammad Hashir\n"
     ]
    }
   ],
   "source": [
    "user = \"Muhammad Hashir\"\n",
    "print(user)\n",
    "print(user)\n",
    "print(user)"
   ]
  },
  {
   "cell_type": "code",
   "execution_count": 20,
   "id": "a4507693-c603-4506-814e-1c1e82ba0de9",
   "metadata": {},
   "outputs": [
    {
     "name": "stdout",
     "output_type": "stream",
     "text": [
      "welcome Dear Muhammad Hashir Happy Birthday 21\n"
     ]
    }
   ],
   "source": [
    "name = \"Muhammad Hashir\"\n",
    "age = 21\n",
    "education = \"Intermediate\"\n",
    "print(\"welcome Dear\",name,\"Happy Birthday\",age)"
   ]
  },
  {
   "cell_type": "code",
   "execution_count": 21,
   "id": "1d6214d8-ff3d-4c33-afb3-d7411cc15598",
   "metadata": {},
   "outputs": [
    {
     "name": "stdout",
     "output_type": "stream",
     "text": [
      "welcome Dear Muhammad Hashir Happy Birthday 21\n"
     ]
    }
   ],
   "source": [
    "name = \"Muhammad Hashir\"\n",
    "age = 21\n",
    "education = \"Intermediate\"\n",
    "print(\"welcome Dear\",name,\"Happy Birthday\",age)"
   ]
  },
  {
   "cell_type": "code",
   "execution_count": 24,
   "id": "0eedea64-fb5d-4d6e-91a0-fa8f4b574e63",
   "metadata": {},
   "outputs": [
    {
     "name": "stdout",
     "output_type": "stream",
     "text": [
      "\n",
      "sylani Mass IT program\n",
      "Batch-4 AI and DS\n",
      "Class days: Tues and Fri\n",
      "\n"
     ]
    }
   ],
   "source": [
    "card =\"\"\"\n",
    "sylani Mass IT program\n",
    "Batch-4 AI and DS\n",
    "Class days: Tues and Fri\n",
    "\"\"\"\n",
    "print(card)"
   ]
  },
  {
   "cell_type": "code",
   "execution_count": 25,
   "id": "60924a15-04fc-40f1-a93a-baaba1d31d20",
   "metadata": {},
   "outputs": [
    {
     "name": "stdout",
     "output_type": "stream",
     "text": [
      "Welcomw Dear Muhammad Hashir\n"
     ]
    }
   ],
   "source": [
    "message = \"Welcomw Dear Muhammad Hashir\"\n",
    "print(message)"
   ]
  },
  {
   "cell_type": "code",
   "execution_count": 27,
   "id": "eb847e02-228c-40ab-8361-bc67312d5650",
   "metadata": {},
   "outputs": [
    {
     "name": "stdout",
     "output_type": "stream",
     "text": [
      "Welcomw Dear \"Muhammad Hashir\"\n"
     ]
    }
   ],
   "source": [
    "message = 'Welcomw Dear \"Muhammad Hashir\"'\n",
    "print(message)"
   ]
  },
  {
   "cell_type": "code",
   "execution_count": 30,
   "id": "422d1a18-b877-4286-bafa-58ae002e93da",
   "metadata": {},
   "outputs": [
    {
     "name": "stdout",
     "output_type": "stream",
     "text": [
      "Welcomw Dear 'Muhammad Hashir'\n"
     ]
    }
   ],
   "source": [
    "message = \"Welcomw Dear 'Muhammad Hashir'\"\n",
    "print(message)"
   ]
  },
  {
   "cell_type": "markdown",
   "id": "f73789bc-8347-4817-aa31-f857bebff7aa",
   "metadata": {},
   "source": [
    "# covert special character into normal character\n",
    "# put **\\** before this character"
   ]
  },
  {
   "cell_type": "code",
   "execution_count": 34,
   "id": "19dd248c-09bd-4e57-886e-772cda2ae289",
   "metadata": {},
   "outputs": [
    {
     "name": "stdout",
     "output_type": "stream",
     "text": [
      "Welcomw Dear 'Muhammad Hashir'\n"
     ]
    }
   ],
   "source": [
    "message = \"Welcomw Dear \\'Muhammad Hashir\\'\"\n",
    "print(message)"
   ]
  },
  {
   "cell_type": "code",
   "execution_count": 39,
   "id": "d7b0c00c-3624-4c03-a864-4ec7e0d357d3",
   "metadata": {},
   "outputs": [
    {
     "name": "stdout",
     "output_type": "stream",
     "text": [
      "Muhammad Hashir\n",
      "15\n",
      "<class 'str'>\n",
      "2198159506032\n"
     ]
    }
   ],
   "source": [
    "name = \"Muhammad Hashir\"\n",
    "print(name)\n",
    "print(len(name)) # length of variable\n",
    "print(type(name))# variable type\n",
    "print(id(name)) # memory address of variable"
   ]
  },
  {
   "cell_type": "raw",
   "id": "bf0edb07-be7d-4573-ae5a-5b07e3b66e30",
   "metadata": {},
   "source": []
  },
  {
   "cell_type": "code",
   "execution_count": 41,
   "id": "e6e8a17c-3975-4c73-9462-d17725a88c89",
   "metadata": {},
   "outputs": [
    {
     "data": {
      "text/plain": [
       "['__add__',\n",
       " '__class__',\n",
       " '__contains__',\n",
       " '__delattr__',\n",
       " '__dir__',\n",
       " '__doc__',\n",
       " '__eq__',\n",
       " '__format__',\n",
       " '__ge__',\n",
       " '__getattribute__',\n",
       " '__getitem__',\n",
       " '__getnewargs__',\n",
       " '__gt__',\n",
       " '__hash__',\n",
       " '__init__',\n",
       " '__init_subclass__',\n",
       " '__iter__',\n",
       " '__le__',\n",
       " '__len__',\n",
       " '__lt__',\n",
       " '__mod__',\n",
       " '__mul__',\n",
       " '__ne__',\n",
       " '__new__',\n",
       " '__reduce__',\n",
       " '__reduce_ex__',\n",
       " '__repr__',\n",
       " '__rmod__',\n",
       " '__rmul__',\n",
       " '__setattr__',\n",
       " '__sizeof__',\n",
       " '__str__',\n",
       " '__subclasshook__',\n",
       " 'capitalize',\n",
       " 'casefold',\n",
       " 'center',\n",
       " 'count',\n",
       " 'encode',\n",
       " 'endswith',\n",
       " 'expandtabs',\n",
       " 'find',\n",
       " 'format',\n",
       " 'format_map',\n",
       " 'index',\n",
       " 'isalnum',\n",
       " 'isalpha',\n",
       " 'isascii',\n",
       " 'isdecimal',\n",
       " 'isdigit',\n",
       " 'isidentifier',\n",
       " 'islower',\n",
       " 'isnumeric',\n",
       " 'isprintable',\n",
       " 'isspace',\n",
       " 'istitle',\n",
       " 'isupper',\n",
       " 'join',\n",
       " 'ljust',\n",
       " 'lower',\n",
       " 'lstrip',\n",
       " 'maketrans',\n",
       " 'partition',\n",
       " 'removeprefix',\n",
       " 'removesuffix',\n",
       " 'replace',\n",
       " 'rfind',\n",
       " 'rindex',\n",
       " 'rjust',\n",
       " 'rpartition',\n",
       " 'rsplit',\n",
       " 'rstrip',\n",
       " 'split',\n",
       " 'splitlines',\n",
       " 'startswith',\n",
       " 'strip',\n",
       " 'swapcase',\n",
       " 'title',\n",
       " 'translate',\n",
       " 'upper',\n",
       " 'zfill']"
      ]
     },
     "execution_count": 41,
     "metadata": {},
     "output_type": "execute_result"
    }
   ],
   "source": [
    "dir(name) # all method and attributes of variable"
   ]
  },
  {
   "cell_type": "code",
   "execution_count": 42,
   "id": "78ef6c56-12b2-4abe-813b-282cd146e98e",
   "metadata": {},
   "outputs": [
    {
     "name": "stdout",
     "output_type": "stream",
     "text": [
      "21\n",
      "2\n",
      "<class 'str'>\n",
      "2198160356272\n"
     ]
    },
    {
     "data": {
      "text/plain": [
       "['__add__',\n",
       " '__class__',\n",
       " '__contains__',\n",
       " '__delattr__',\n",
       " '__dir__',\n",
       " '__doc__',\n",
       " '__eq__',\n",
       " '__format__',\n",
       " '__ge__',\n",
       " '__getattribute__',\n",
       " '__getitem__',\n",
       " '__getnewargs__',\n",
       " '__gt__',\n",
       " '__hash__',\n",
       " '__init__',\n",
       " '__init_subclass__',\n",
       " '__iter__',\n",
       " '__le__',\n",
       " '__len__',\n",
       " '__lt__',\n",
       " '__mod__',\n",
       " '__mul__',\n",
       " '__ne__',\n",
       " '__new__',\n",
       " '__reduce__',\n",
       " '__reduce_ex__',\n",
       " '__repr__',\n",
       " '__rmod__',\n",
       " '__rmul__',\n",
       " '__setattr__',\n",
       " '__sizeof__',\n",
       " '__str__',\n",
       " '__subclasshook__',\n",
       " 'capitalize',\n",
       " 'casefold',\n",
       " 'center',\n",
       " 'count',\n",
       " 'encode',\n",
       " 'endswith',\n",
       " 'expandtabs',\n",
       " 'find',\n",
       " 'format',\n",
       " 'format_map',\n",
       " 'index',\n",
       " 'isalnum',\n",
       " 'isalpha',\n",
       " 'isascii',\n",
       " 'isdecimal',\n",
       " 'isdigit',\n",
       " 'isidentifier',\n",
       " 'islower',\n",
       " 'isnumeric',\n",
       " 'isprintable',\n",
       " 'isspace',\n",
       " 'istitle',\n",
       " 'isupper',\n",
       " 'join',\n",
       " 'ljust',\n",
       " 'lower',\n",
       " 'lstrip',\n",
       " 'maketrans',\n",
       " 'partition',\n",
       " 'removeprefix',\n",
       " 'removesuffix',\n",
       " 'replace',\n",
       " 'rfind',\n",
       " 'rindex',\n",
       " 'rjust',\n",
       " 'rpartition',\n",
       " 'rsplit',\n",
       " 'rstrip',\n",
       " 'split',\n",
       " 'splitlines',\n",
       " 'startswith',\n",
       " 'strip',\n",
       " 'swapcase',\n",
       " 'title',\n",
       " 'translate',\n",
       " 'upper',\n",
       " 'zfill']"
      ]
     },
     "execution_count": 42,
     "metadata": {},
     "output_type": "execute_result"
    }
   ],
   "source": [
    "age = \"21\"\n",
    "print(age)\n",
    "print(len(age)) # length of variable\n",
    "print(type(age))# variable type\n",
    "print(id(age)) # memory address of variable\n",
    "dir(name) # all method and attributes of variable"
   ]
  },
  {
   "cell_type": "code",
   "execution_count": null,
   "id": "a1aade25-e465-40a7-8f5a-255278b7eeba",
   "metadata": {},
   "outputs": [],
   "source": []
  },
  {
   "cell_type": "code",
   "execution_count": null,
   "id": "2b033e3a-67b9-4f17-bae1-687346d81932",
   "metadata": {},
   "outputs": [],
   "source": []
  }
 ],
 "metadata": {
  "kernelspec": {
   "display_name": "Python 3 (ipykernel)",
   "language": "python",
   "name": "python3"
  },
  "language_info": {
   "codemirror_mode": {
    "name": "ipython",
    "version": 3
   },
   "file_extension": ".py",
   "mimetype": "text/x-python",
   "name": "python",
   "nbconvert_exporter": "python",
   "pygments_lexer": "ipython3",
   "version": "3.9.13"
  }
 },
 "nbformat": 4,
 "nbformat_minor": 5
}
