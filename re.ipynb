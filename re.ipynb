{
 "cells": [
  {
   "cell_type": "code",
   "execution_count": 1,
   "id": "92f57575",
   "metadata": {},
   "outputs": [],
   "source": [
    "import re"
   ]
  },
  {
   "cell_type": "code",
   "execution_count": 2,
   "id": "99363d55",
   "metadata": {},
   "outputs": [
    {
     "data": {
      "text/plain": [
       "['a', 'a', 'a', 'a']"
      ]
     },
     "execution_count": 2,
     "metadata": {},
     "output_type": "execute_result"
    }
   ],
   "source": [
    "text = \"\"\"\n",
    "pakistan zinda bad!\n",
    "\"\"\"\n",
    "\n",
    "re.findall('a', text)"
   ]
  },
  {
   "cell_type": "code",
   "execution_count": 6,
   "id": "ca086bbe",
   "metadata": {},
   "outputs": [
    {
     "name": "stdout",
     "output_type": "stream",
     "text": [
      "['ak']\n",
      "['ak', 'ad']\n"
     ]
    }
   ],
   "source": [
    "print(re.findall('ak', text))\n",
    "#                 c1 c2\n",
    "print(re.findall('a[kdjm]', text))"
   ]
  },
  {
   "cell_type": "code",
   "execution_count": 19,
   "id": "2b814dff",
   "metadata": {},
   "outputs": [
    {
     "name": "stdout",
     "output_type": "stream",
     "text": [
      "['aylan', 'ainin']\n",
      "['akistan', 'aylan', 'ainin']\n",
      "['aki', 'ani', 'aUi']\n",
      "['ivin', 'inin', 'i5tn']\n",
      "['n z']\n",
      "['akistan zinda bad!', 'arachi', 'aylani Mass IT training', 'ajkUi5tn ', 'aaaaUiHHH', 'abcd   a']\n"
     ]
    }
   ],
   "source": [
    "text = \"\"\"\n",
    "pakistan zinda bad!\n",
    "i'm living in karachi\n",
    "Saylani Mass IT training\n",
    " ajkUi5tn \n",
    "hello world aaaaUiHHH\n",
    "abcd   a\n",
    "i\n",
    "\"\"\"\n",
    "print(re.findall('a.{3}n', text))\n",
    "print(re.findall('a.{1,5}n', text))\n",
    "print(re.findall('a.i', text))\n",
    "print(re.findall('i..n', text))\n",
    "print(re.findall('n.z', text))\n",
    "print(re.findall('a.+', text))\n",
    "# print(re.finda;;('a.*', text))"
   ]
  },
  {
   "cell_type": "code",
   "execution_count": 30,
   "id": "0acb514a",
   "metadata": {},
   "outputs": [
    {
     "name": "stdout",
     "output_type": "stream",
     "text": [
      "['ai34', 'ai74503', 'ai0045', 'ai0345']\n",
      "['ai', 'ai34', 'ai74503', 'ai0045', 'ai', 'ai0345']\n",
      "['ai19843', 'ai34853', 'ai74503', 'ai00458', 'ai034586759']\n",
      "['ai19843', 'ai34853', 'ai74503', 'ai00458', 'ai', 'ai034586759']\n"
     ]
    }
   ],
   "source": [
    "text = \"\"\"\n",
    "pakistan zinda bad!\n",
    "ai19843 aad\n",
    "ai34853 dddd\n",
    "ai74503 ddd \n",
    "ai00458 hhh\n",
    "aijhkht hhgf\n",
    "ai034586759\n",
    "\"\"\"\n",
    "# print(re.findall('ai[03456759]{2,5}', text))\n",
    "# print(re.findall('ai[03456759]', text))\n",
    "print(re.findall('ai[03456759]+', text))\n",
    "print(re.findall('ai[03456759]*', text))\n",
    "\n",
    "print(re.findall('ai[0-9]+', text))\n",
    "print(re.findall('ai[0-9]*', text))"
   ]
  },
  {
   "cell_type": "code",
   "execution_count": 35,
   "id": "d48b53d4",
   "metadata": {},
   "outputs": [
    {
     "name": "stdout",
     "output_type": "stream",
     "text": [
      "['aaaa', 'abc', 'aba', 'abc', 'cba', 'bca']\n"
     ]
    }
   ],
   "source": [
    "text = \"\"\"\n",
    "pakistan zinda bad!\n",
    "i'm living in karachi\n",
    "Saylani Mass IT training\n",
    " ajkUi5tn \n",
    "hello world aaaaUiHHH\n",
    "abcd   a\n",
    "abad\n",
    "abc\n",
    "abd\n",
    "cba\n",
    "bca\n",
    "i\n",
    "\"\"\"\n",
    "\n",
    "print(re.findall('[acb]{3,5}', text))"
   ]
  },
  {
   "cell_type": "code",
   "execution_count": 38,
   "id": "df7763a5",
   "metadata": {},
   "outputs": [
    {
     "name": "stdout",
     "output_type": "stream",
     "text": [
      "['pakistan', 'zinda', 'bad', 'i', 'm', 'living', 'in', 'karachi', 'aylani', 'ass', 'training', 'ajk', 'i', 'tn', 'hello', 'world', 'aaaa', 'i', 'abcd', 'a', 'abad', 'abc', 'abd', 'cba', 'bca', 'i']\n",
      "['S', 'M', 'IT', 'U', 'U', 'HHH']\n"
     ]
    }
   ],
   "source": [
    "print(re.findall('[a-z]+', text))\n",
    "print(re.findall('[A-Z]+', text))"
   ]
  },
  {
   "cell_type": "code",
   "execution_count": 39,
   "id": "1e5c2bc9",
   "metadata": {},
   "outputs": [
    {
     "name": "stdout",
     "output_type": "stream",
     "text": [
      "['pakistan', 'zinda', 'bad', 'i', 'm', 'living', 'in', 'karachi', 'Saylani', 'Mass', 'IT', 'training', 'ajkUi', 'tn', 'hello', 'world', 'aaaaUiHHH', 'abcd', 'a', 'abad', 'abc', 'abd', 'cba', 'bca', 'i']\n"
     ]
    }
   ],
   "source": [
    "print(re.findall('[A-z]+', text))"
   ]
  },
  {
   "cell_type": "code",
   "execution_count": 42,
   "id": "45f1a6f3",
   "metadata": {},
   "outputs": [
    {
     "data": {
      "text/plain": [
       "['0315-1022202', '0310-4732734', '0321-1838743', '0092315-1234567']"
      ]
     },
     "execution_count": 42,
     "metadata": {},
     "output_type": "execute_result"
    }
   ],
   "source": [
    "text = \"\"\"\n",
    "0315-1022202\n",
    "0310-4732734\n",
    "0321-1838743\n",
    "0092315-1234567\n",
    "+92341-9873456\n",
    "hell world....1234-1234567\n",
    "my zong number is 0317-1073481\n",
    "\"\"\"\n",
    "\n",
    "re.findall('^[0-9].+[0-9]$', text, re.MULTILINE)\n",
    "re.findall('^\\d.+\\d$', text, re.MULTILINE)\n"
   ]
  },
  {
   "cell_type": "code",
   "execution_count": 51,
   "id": "4494c72f",
   "metadata": {},
   "outputs": [
    {
     "name": "stdout",
     "output_type": "stream",
     "text": [
      "['0315-1022202', '0310-4732734', '0321-1838743', '0092315-1234567', '92341-9873456', '1234-1234567', '0317-1073481']\n"
     ]
    }
   ],
   "source": [
    "text = \"\"\"\n",
    "0315-1022202\n",
    "0310-4732734\n",
    "0321-1838743\n",
    "0092315-1234567\n",
    "+92341-9873456\n",
    "hell world....1234-1234567\n",
    "my zong number is 0317-1073481\n",
    "\"\"\"\n",
    "\n",
    "print(re.findall(r'\\b\\+?\\d{4,7}-?\\d{7}\\b', text))"
   ]
  },
  {
   "cell_type": "code",
   "execution_count": 60,
   "id": "ff9c84dc",
   "metadata": {},
   "outputs": [
    {
     "data": {
      "text/plain": [
       "[]"
      ]
     },
     "execution_count": 60,
     "metadata": {},
     "output_type": "execute_result"
    }
   ],
   "source": [
    "text = \"\"\"pakistan zinda bad. we are pakistan\"\"\"\n",
    "re.findall(r\"\\bp\\+?\\d[pa]*n\\b\", text)"
   ]
  },
  {
   "cell_type": "markdown",
   "id": "42e58366",
   "metadata": {},
   "source": [
    "# Apply re on real world "
   ]
  }
 ],
 "metadata": {
  "kernelspec": {
   "display_name": "Python 3 (ipykernel)",
   "language": "python",
   "name": "python3"
  },
  "language_info": {
   "codemirror_mode": {
    "name": "ipython",
    "version": 3
   },
   "file_extension": ".py",
   "mimetype": "text/x-python",
   "name": "python",
   "nbconvert_exporter": "python",
   "pygments_lexer": "ipython3",
   "version": "3.10.9"
  }
 },
 "nbformat": 4,
 "nbformat_minor": 5
}
