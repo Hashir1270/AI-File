{
 "cells": [
  {
   "cell_type": "code",
   "execution_count": 44,
   "id": "2a00c1bc",
   "metadata": {},
   "outputs": [
    {
     "ename": "SyntaxError",
     "evalue": "invalid syntax (2568203804.py, line 2)",
     "output_type": "error",
     "traceback": [
      "\u001b[1;36m  File \u001b[1;32m\"C:\\Users\\Admin\\AppData\\Local\\Temp\\ipykernel_13572\\2568203804.py\"\u001b[1;36m, line \u001b[1;32m2\u001b[0m\n\u001b[1;33m    Operators are used to perform operations on variables and values.\u001b[0m\n\u001b[1;37m              ^\u001b[0m\n\u001b[1;31mSyntaxError\u001b[0m\u001b[1;31m:\u001b[0m invalid syntax\n"
     ]
    }
   ],
   "source": [
    "# Python Operators\n",
    "Operators are used to perform operations on variables and values.\n",
    "* Arithmetic operators\n",
    "* Assignment operators\n",
    "* Comparison operators\n",
    "*  Logical operators\n",
    "* Identity operators\n",
    "* Membership operators\n",
    "* `mBitwise operators\n",
    "\n",
    "In the example below, we use the + operator to add together two values:\n",
    "    >img src =\"./Class 4 picture.png\"<"
   ]
  },
  {
   "cell_type": "code",
   "execution_count": 19,
   "id": "3834d9c4",
   "metadata": {},
   "outputs": [
    {
     "name": "stdout",
     "output_type": "stream",
     "text": [
      "4\n",
      "13\n"
     ]
    }
   ],
   "source": [
    " #  opd opr opd\n",
    "print (2  +  2)# 4 addition operation\n",
    "print(7  +  6)#13 addition operation"
   ]
  },
  {
   "cell_type": "code",
   "execution_count": 20,
   "id": "f2c5f016",
   "metadata": {},
   "outputs": [
    {
     "name": "stdout",
     "output_type": "stream",
     "text": [
      "8\n"
     ]
    }
   ],
   "source": [
    "num1= 3\n",
    "num2= 5\n",
    "print(num1  +   num2)"
   ]
  },
  {
   "cell_type": "code",
   "execution_count": 21,
   "id": "f05165e1",
   "metadata": {},
   "outputs": [
    {
     "name": "stdout",
     "output_type": "stream",
     "text": [
      "num1:<class 'str'>  num2: <class 'int'>\n"
     ]
    },
    {
     "ename": "TypeError",
     "evalue": "can only concatenate str (not \"int\") to str",
     "output_type": "error",
     "traceback": [
      "\u001b[1;31m---------------------------------------------------------------------------\u001b[0m",
      "\u001b[1;31mTypeError\u001b[0m                                 Traceback (most recent call last)",
      "\u001b[1;32m~\\AppData\\Local\\Temp\\ipykernel_13572\\3824849340.py\u001b[0m in \u001b[0;36m<module>\u001b[1;34m\u001b[0m\n\u001b[0;32m      2\u001b[0m \u001b[0mnum2\u001b[0m\u001b[1;33m=\u001b[0m \u001b[1;36m5\u001b[0m  \u001b[1;31m# str\u001b[0m\u001b[1;33m\u001b[0m\u001b[1;33m\u001b[0m\u001b[0m\n\u001b[0;32m      3\u001b[0m \u001b[0mprint\u001b[0m\u001b[1;33m(\u001b[0m\u001b[1;34mf\"num1:{type(num1)}  num2: {type(num2)}\"\u001b[0m\u001b[1;33m)\u001b[0m\u001b[1;33m\u001b[0m\u001b[1;33m\u001b[0m\u001b[0m\n\u001b[1;32m----> 4\u001b[1;33m \u001b[0mprint\u001b[0m\u001b[1;33m(\u001b[0m\u001b[0mnum1\u001b[0m  \u001b[1;33m+\u001b[0m   \u001b[0mnum2\u001b[0m\u001b[1;33m)\u001b[0m\u001b[1;33m\u001b[0m\u001b[1;33m\u001b[0m\u001b[0m\n\u001b[0m",
      "\u001b[1;31mTypeError\u001b[0m: can only concatenate str (not \"int\") to str"
     ]
    }
   ],
   "source": [
    "num1= \"3\" # int\n",
    "num2= 5  # str\n",
    "print(f\"num1:{type(num1)}  num2: {type(num2)}\")\n",
    "print(num1  +   num2)"
   ]
  },
  {
   "cell_type": "code",
   "execution_count": 22,
   "id": "f9e7d879",
   "metadata": {},
   "outputs": [
    {
     "name": "stdout",
     "output_type": "stream",
     "text": [
      "num1:<class 'list'>  num2: <class 'list'>\n",
      "['a', 'b', 'c'] [1, 2, 3]\n",
      "['a', 'b', 'c', 1, 2, 3]\n"
     ]
    }
   ],
   "source": [
    "l1 = ['a','b','c',]\n",
    "l2 = [1,2,3]\n",
    "print(f\"num1:{type(l1)}  num2: {type(l2)}\")\n",
    "print(l1,l2)\n",
    "print(l1  +   l2)"
   ]
  },
  {
   "cell_type": "code",
   "execution_count": 9,
   "id": "583f1263",
   "metadata": {},
   "outputs": [
    {
     "name": "stdout",
     "output_type": "stream",
     "text": [
      "\n",
      "Operator\tName\tExample\tTry it\n",
      "+\tAddition\tx + y\t\n",
      "-\tSubtraction\tx - y\t\n",
      "*\tMultiplication\tx * y\t\n",
      "/\tDivision\tx / y\t\n",
      "%\tModulus\tx % y\t\n",
      "**\tExponentiation\tx ** y\t\n",
      "//\tFloor division\tx // y\t\n"
     ]
    }
   ],
   "source": [
    "x =\"\"\"\n",
    "Operator\tName\tExample\tTry it\n",
    "+\tAddition\tx + y\t\n",
    "-\tSubtraction\tx - y\t\n",
    "*\tMultiplication\tx * y\t\n",
    "/\tDivision\tx / y\t\n",
    "%\tModulus\tx % y\t\n",
    "**\tExponentiation\tx ** y\t\n",
    "//\tFloor division\tx // y\t\"\"\"\n",
    "print(x)"
   ]
  },
  {
   "cell_type": "code",
   "execution_count": 10,
   "id": "885156b6",
   "metadata": {},
   "outputs": [
    {
     "name": "stdout",
     "output_type": "stream",
     "text": [
      "1.4285714285714286\n"
     ]
    }
   ],
   "source": [
    "x = 10 # int\n",
    "y = 7 # int\n",
    "print(x/y) # float"
   ]
  },
  {
   "cell_type": "code",
   "execution_count": 15,
   "id": "cbbe2e1d",
   "metadata": {},
   "outputs": [
    {
     "name": "stdout",
     "output_type": "stream",
     "text": [
      "8\n",
      "8\n"
     ]
    }
   ],
   "source": [
    "x = 2\n",
    "y = 3\n",
    "print(x**y)\n",
    "print(2**3)"
   ]
  },
  {
   "cell_type": "code",
   "execution_count": 23,
   "id": "f4593c37",
   "metadata": {},
   "outputs": [
    {
     "name": "stdout",
     "output_type": "stream",
     "text": [
      "4.0\n",
      "4\n",
      "2.3333333333333335\n",
      "2\n"
     ]
    }
   ],
   "source": [
    "print(8/2)\n",
    "print(8//2)\n",
    "print(7/3)\n",
    "print(7//3)"
   ]
  },
  {
   "cell_type": "markdown",
   "id": "7783ee5b",
   "metadata": {},
   "source": [
    "# Python Assignment Operators\n",
    "Assignment operators are used to assign values to variables:"
   ]
  },
  {
   "cell_type": "code",
   "execution_count": 28,
   "id": "19b08a46",
   "metadata": {},
   "outputs": [
    {
     "name": "stdout",
     "output_type": "stream",
     "text": [
      "5\n",
      "5\n"
     ]
    }
   ],
   "source": [
    "a = 5\n",
    "print(a)\n",
    "print(a)"
   ]
  },
  {
   "cell_type": "code",
   "execution_count": 29,
   "id": "7fcd8254",
   "metadata": {},
   "outputs": [
    {
     "name": "stdout",
     "output_type": "stream",
     "text": [
      "5\n",
      "8\n",
      "7\n",
      "4\n"
     ]
    }
   ],
   "source": [
    "a = 5  # Assign new value\n",
    "print(a)\n",
    "a = 8  # overwrit old value\n",
    "print(a)\n",
    "a = 7   # 7\n",
    "print(a)\n",
    "a = 4    # 5\n",
    "print(a)"
   ]
  },
  {
   "cell_type": "code",
   "execution_count": 32,
   "id": "eef6db7a",
   "metadata": {},
   "outputs": [
    {
     "name": "stdout",
     "output_type": "stream",
     "text": [
      "8\n",
      "7\n",
      "6\n"
     ]
    }
   ],
   "source": [
    "a = 8\n",
    "print(a)\n",
    "a -= 1\n",
    "print(a) # new way\n",
    "a -= 1\n",
    "print(a) # old "
   ]
  },
  {
   "cell_type": "code",
   "execution_count": 34,
   "id": "16558aff",
   "metadata": {},
   "outputs": [
    {
     "name": "stdout",
     "output_type": "stream",
     "text": [
      "8\n",
      "16\n",
      "96\n"
     ]
    }
   ],
   "source": [
    "a = 8\n",
    "print(a)\n",
    "a *= 2\n",
    "print(a) # new way\n",
    "a *= 6\n",
    "print(a)"
   ]
  },
  {
   "cell_type": "code",
   "execution_count": 35,
   "id": "9292a84c",
   "metadata": {},
   "outputs": [
    {
     "name": "stdout",
     "output_type": "stream",
     "text": [
      "8\n",
      "4\n",
      "0.6666666666666666\n"
     ]
    }
   ],
   "source": [
    "a = 8\n",
    "print(a)\n",
    "a //= 2\n",
    "print(a) # new way\n",
    "a /= 6\n",
    "print(a)"
   ]
  },
  {
   "cell_type": "code",
   "execution_count": 38,
   "id": "5611d857",
   "metadata": {},
   "outputs": [
    {
     "name": "stdout",
     "output_type": "stream",
     "text": [
      "64\n"
     ]
    }
   ],
   "source": [
    "x = 65\n",
    "x = x & 66\n",
    "print(x)"
   ]
  },
  {
   "cell_type": "code",
   "execution_count": 39,
   "id": "8233e25e",
   "metadata": {},
   "outputs": [
    {
     "ename": "SyntaxError",
     "evalue": "leading zeros in decimal integer literals are not permitted; use an 0o prefix for octal integers (3166245107.py, line 1)",
     "output_type": "error",
     "traceback": [
      "\u001b[1;36m  File \u001b[1;32m\"C:\\Users\\Admin\\AppData\\Local\\Temp\\ipykernel_13572\\3166245107.py\"\u001b[1;36m, line \u001b[1;32m1\u001b[0m\n\u001b[1;33m    x = 01000001\u001b[0m\n\u001b[1;37m               ^\u001b[0m\n\u001b[1;31mSyntaxError\u001b[0m\u001b[1;31m:\u001b[0m leading zeros in decimal integer literals are not permitted; use an 0o prefix for octal integers\n"
     ]
    }
   ],
   "source": [
    "x = 01000001\n",
    "y = 01000001\n",
    "z = 01000001\n",
    "\n",
    "a = 01000001 # new code"
   ]
  },
  {
   "cell_type": "markdown",
   "id": "1a66da7c",
   "metadata": {},
   "source": [
    "# Python Comparison Operators\n",
    "Comparison operators are used to compare two values:"
   ]
  },
  {
   "cell_type": "code",
   "execution_count": 45,
   "id": "f5e2aece",
   "metadata": {},
   "outputs": [
    {
     "name": "stdout",
     "output_type": "stream",
     "text": [
      "False\n"
     ]
    }
   ],
   "source": [
    "a = 5\n",
    "b = 7\n",
    "print(a==b)"
   ]
  },
  {
   "cell_type": "code",
   "execution_count": 46,
   "id": "b63fffbd",
   "metadata": {},
   "outputs": [
    {
     "name": "stdout",
     "output_type": "stream",
     "text": [
      "True\n"
     ]
    }
   ],
   "source": [
    "a = 5\n",
    "b = 5\n",
    "print(a==b)"
   ]
  },
  {
   "cell_type": "code",
   "execution_count": 49,
   "id": "599761a1",
   "metadata": {},
   "outputs": [
    {
     "name": "stdout",
     "output_type": "stream",
     "text": [
      "True\n"
     ]
    }
   ],
   "source": [
    "a = 5\n",
    "b = 5\n",
    "print(a<=b)"
   ]
  },
  {
   "cell_type": "code",
   "execution_count": 48,
   "id": "9c6dc440",
   "metadata": {},
   "outputs": [
    {
     "name": "stdout",
     "output_type": "stream",
     "text": [
      "False\n"
     ]
    }
   ],
   "source": [
    "a = 5\n",
    "b = 7\n",
    "print(a>b)"
   ]
  },
  {
   "cell_type": "code",
   "execution_count": 50,
   "id": "ed38f998",
   "metadata": {},
   "outputs": [
    {
     "name": "stdout",
     "output_type": "stream",
     "text": [
      "True\n"
     ]
    }
   ],
   "source": [
    "a = 5\n",
    "b = 5\n",
    "print(a>=b)"
   ]
  },
  {
   "cell_type": "code",
   "execution_count": 51,
   "id": "9d075882",
   "metadata": {},
   "outputs": [
    {
     "name": "stdout",
     "output_type": "stream",
     "text": [
      "False\n"
     ]
    }
   ],
   "source": [
    "a = 5\n",
    "b = 5\n",
    "# 5      5 \n",
    "print(a!=b)"
   ]
  },
  {
   "cell_type": "code",
   "execution_count": 54,
   "id": "3cfd8f23",
   "metadata": {},
   "outputs": [
    {
     "name": "stdout",
     "output_type": "stream",
     "text": [
      "True\n"
     ]
    }
   ],
   "source": [
    "a = 'Hashir'\n",
    "b = 'Hashir'\n",
    "print(a==b)"
   ]
  },
  {
   "cell_type": "code",
   "execution_count": 55,
   "id": "473028a8",
   "metadata": {},
   "outputs": [
    {
     "name": "stdout",
     "output_type": "stream",
     "text": [
      "True\n"
     ]
    }
   ],
   "source": [
    "a = 'Hashir'\n",
    "b = '7'\n",
    "print(a> b)"
   ]
  },
  {
   "cell_type": "code",
   "execution_count": 59,
   "id": "f254195c",
   "metadata": {},
   "outputs": [
    {
     "data": {
      "text/plain": [
       "56"
      ]
     },
     "execution_count": 59,
     "metadata": {},
     "output_type": "execute_result"
    }
   ],
   "source": [
    "ord('8')"
   ]
  },
  {
   "cell_type": "code",
   "execution_count": 60,
   "id": "c47227ad",
   "metadata": {},
   "outputs": [
    {
     "data": {
      "text/plain": [
       "103"
      ]
     },
     "execution_count": 60,
     "metadata": {},
     "output_type": "execute_result"
    }
   ],
   "source": [
    "ord('g')"
   ]
  },
  {
   "cell_type": "code",
   "execution_count": 61,
   "id": "c5b1e636",
   "metadata": {},
   "outputs": [
    {
     "name": "stdout",
     "output_type": "stream",
     "text": [
      "True\n",
      "False\n",
      "False\n"
     ]
    }
   ],
   "source": [
    "a = '66'\n",
    "b = '66'\n",
    "print(a==b)\n",
    "print(a>b)\n",
    "print(a<b)"
   ]
  },
  {
   "cell_type": "markdown",
   "id": "35f78105",
   "metadata": {},
   "source": [
    "# Python Logical Operators\n",
    "Logical operators are used to combine conditional statements:"
   ]
  },
  {
   "cell_type": "code",
   "execution_count": 64,
   "id": "382111ce",
   "metadata": {},
   "outputs": [
    {
     "name": "stdout",
     "output_type": "stream",
     "text": [
      "True\n",
      "False\n",
      "False\n"
     ]
    }
   ],
   "source": [
    "#      l    op  l   op   l   op   l \n",
    "print(True and True and True and True) # true\n",
    "print(True and True and False and True)# false\n",
    "print(False and False and True and True) # false"
   ]
  },
  {
   "cell_type": "code",
   "execution_count": 66,
   "id": "3d75215b",
   "metadata": {},
   "outputs": [
    {
     "name": "stdout",
     "output_type": "stream",
     "text": [
      "True\n",
      "True\n",
      "False\n"
     ]
    }
   ],
   "source": [
    "#   l    op  l   op   l   op   l \n",
    "print(True or True or True or True) # true\n",
    "print(True or True or False or True)# true\n",
    "print(False or False or False or False) # false"
   ]
  },
  {
   "cell_type": "code",
   "execution_count": 68,
   "id": "f340a972",
   "metadata": {},
   "outputs": [
    {
     "data": {
      "text/plain": [
       "False"
      ]
     },
     "execution_count": 68,
     "metadata": {},
     "output_type": "execute_result"
    }
   ],
   "source": [
    "not True # not make statement wrong"
   ]
  },
  {
   "cell_type": "code",
   "execution_count": 71,
   "id": "2a3695dd",
   "metadata": {},
   "outputs": [
    {
     "name": "stdout",
     "output_type": "stream",
     "text": [
      "enter your passwordHeaven\n",
      "False\n",
      "True\n",
      "False\n",
      "True\n",
      "Heaven\n"
     ]
    }
   ],
   "source": [
    "password = input(\"enter your password\")\n",
    "print(password=='abc') #Fasle\n",
    "print(not password=='abc')#True\n",
    "print(not True)#Fasle\n",
    "print( not False) #True\n",
    "print(password)"
   ]
  },
  {
   "cell_type": "markdown",
   "id": "b03ce1e0",
   "metadata": {},
   "source": [
    "# shallow copy"
   ]
  },
  {
   "cell_type": "code",
   "execution_count": 73,
   "id": "f51d1cbd",
   "metadata": {},
   "outputs": [
    {
     "name": "stdout",
     "output_type": "stream",
     "text": [
      "2335720696240 2335720696240 2335720696240\n",
      "5\n",
      "5\n",
      "5\n"
     ]
    }
   ],
   "source": [
    "a = 5\n",
    "b = 5\n",
    "c = 5\n",
    "print(id(a),id(b),id(c))\n",
    "print(a)\n",
    "print(b)\n",
    "print(c)"
   ]
  },
  {
   "cell_type": "code",
   "execution_count": 74,
   "id": "fe1246a9",
   "metadata": {},
   "outputs": [
    {
     "name": "stdout",
     "output_type": "stream",
     "text": [
      "2335720696240 2335726605872\n"
     ]
    }
   ],
   "source": [
    "a = 5\n",
    "b = '5'\n",
    "print(id(a),id(b))"
   ]
  },
  {
   "cell_type": "code",
   "execution_count": 75,
   "id": "55a8ba3a",
   "metadata": {},
   "outputs": [
    {
     "data": {
      "text/plain": [
       "False"
      ]
     },
     "execution_count": 75,
     "metadata": {},
     "output_type": "execute_result"
    }
   ],
   "source": [
    "a is b"
   ]
  },
  {
   "cell_type": "markdown",
   "id": "de648ece",
   "metadata": {},
   "source": [
    "# Deep copy"
   ]
  },
  {
   "cell_type": "code",
   "execution_count": 78,
   "id": "fc3901d8",
   "metadata": {},
   "outputs": [
    {
     "name": "stdout",
     "output_type": "stream",
     "text": [
      "['Hashir'] ['Hashir']\n",
      "2335837590464 2335837532736\n",
      "True\n",
      "False\n"
     ]
    }
   ],
   "source": [
    "name1 = [\"Hashir\"]\n",
    "student = name1.copy() #deep copy\n",
    "\n",
    "print(name1, student)\n",
    "print(id(name1), id(student))\n",
    "print(name1==student)\n",
    "print(name1 is student)\n",
    "\n"
   ]
  },
  {
   "cell_type": "code",
   "execution_count": 79,
   "id": "6de97f2f",
   "metadata": {},
   "outputs": [
    {
     "name": "stdout",
     "output_type": "stream",
     "text": [
      "['Hashir'] ['Hashir']\n",
      "2335837579776 2335836555776\n",
      "True\n",
      "True\n"
     ]
    }
   ],
   "source": [
    "name1 = [\"Hashir\"]\n",
    "student = name1.copy() #deep copy\n",
    "\n",
    "print(name1, student)\n",
    "print(id(name1), id(student))\n",
    "print(name1==student)\n",
    "print(name1 is not student)\n"
   ]
  },
  {
   "cell_type": "markdown",
   "id": "5f12b1c4",
   "metadata": {},
   "source": [
    "# Python Membership Operators\n",
    "Membership operators are used to test if a sequence is presented in an object"
   ]
  },
  {
   "cell_type": "code",
   "execution_count": 82,
   "id": "4707e472",
   "metadata": {},
   "outputs": [
    {
     "name": "stdout",
     "output_type": "stream",
     "text": [
      "True\n",
      "False\n"
     ]
    }
   ],
   "source": [
    "message = \"land is green \"\n",
    "print('green'in message)\n",
    "print('green' not in message)"
   ]
  },
  {
   "cell_type": "code",
   "execution_count": 84,
   "id": "33e129dd",
   "metadata": {},
   "outputs": [
    {
     "name": "stdout",
     "output_type": "stream",
     "text": [
      "True\n",
      "False\n"
     ]
    }
   ],
   "source": [
    "name = ['hashir','hamza', 'raza']\n",
    "print('hamza'in name)\n",
    "print('Sam'in name)"
   ]
  },
  {
   "cell_type": "code",
   "execution_count": 85,
   "id": "f46a9574",
   "metadata": {},
   "outputs": [
    {
     "name": "stdout",
     "output_type": "stream",
     "text": [
      "True\n",
      "True\n"
     ]
    }
   ],
   "source": [
    "name = ['hashir','hamza', 'raza']\n",
    "print('hamza'in name)\n",
    "print('Sam' not in name)"
   ]
  },
  {
   "cell_type": "code",
   "execution_count": null,
   "id": "b68afc85",
   "metadata": {},
   "outputs": [],
   "source": []
  }
 ],
 "metadata": {
  "kernelspec": {
   "display_name": "Python 3 (ipykernel)",
   "language": "python",
   "name": "python3"
  },
  "language_info": {
   "codemirror_mode": {
    "name": "ipython",
    "version": 3
   },
   "file_extension": ".py",
   "mimetype": "text/x-python",
   "name": "python",
   "nbconvert_exporter": "python",
   "pygments_lexer": "ipython3",
   "version": "3.9.13"
  }
 },
 "nbformat": 4,
 "nbformat_minor": 5
}
