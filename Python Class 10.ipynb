{
 "cells": [
  {
   "cell_type": "markdown",
   "id": "11d5ac46",
   "metadata": {},
   "source": [
    "# Absolute path:\n",
    "C:/Users/Admin/Desktop/AI Saylani/Python/Class 10/File1.txt\n",
    "C:/Users/Admin/Desktop/AI Saylani/Python/Class 10/Python Class 10.ipynb\n",
    "\n",
    "# Relative path\n",
    "* **./** current folder or directory\n",
    "* **./childfolder1/childfolder2/**\n",
    "* **../**\n",
    "\n",
    "./File1.txt\n",
    "./Python Class 10.ipynb"
   ]
  },
  {
   "cell_type": "markdown",
   "id": "1e3abb1c",
   "metadata": {},
   "source": [
    "# Example one:\n",
    "Read **File 1.txt from same directory in python"
   ]
  },
  {
   "cell_type": "code",
   "execution_count": 7,
   "id": "a86c2438",
   "metadata": {},
   "outputs": [
    {
     "name": "stdout",
     "output_type": "stream",
     "text": [
      "<class '_io.TextIOWrapper'>\n",
      "['_CHUNK_SIZE', '__class__', '__del__', '__delattr__', '__dict__', '__dir__', '__doc__', '__enter__', '__eq__', '__exit__', '__format__', '__ge__', '__getattribute__', '__gt__', '__hash__', '__init__', '__init_subclass__', '__iter__', '__le__', '__lt__', '__ne__', '__new__', '__next__', '__reduce__', '__reduce_ex__', '__repr__', '__setattr__', '__sizeof__', '__str__', '__subclasshook__', '_checkClosed', '_checkReadable', '_checkSeekable', '_checkWritable', '_finalizing', 'buffer', 'close', 'closed', 'detach', 'encoding', 'errors', 'fileno', 'flush', 'isatty', 'line_buffering', 'mode', 'name', 'newlines', 'read', 'readable', 'readline', 'readlines', 'reconfigure', 'seek', 'seekable', 'tell', 'truncate', 'writable', 'write', 'write_through', 'writelines']\n"
     ]
    }
   ],
   "source": [
    "f = open(\"./File1.txt\")\n",
    "print(type(f))\n",
    "print(dir(f))"
   ]
  },
  {
   "cell_type": "code",
   "execution_count": 8,
   "id": "42f29749",
   "metadata": {},
   "outputs": [
    {
     "name": "stdout",
     "output_type": "stream",
     "text": [
      "Pakistan Zindabad\n",
      "We love Pakistan\n"
     ]
    }
   ],
   "source": [
    "f = open(\"./File1.txt\")\n",
    "print(f.read()) # read all file\n",
    "\n",
    "f.close()"
   ]
  },
  {
   "cell_type": "code",
   "execution_count": 9,
   "id": "7d8acb72",
   "metadata": {},
   "outputs": [
    {
     "name": "stdout",
     "output_type": "stream",
     "text": [
      "Pakistan Zindabad\n",
      "\n"
     ]
    }
   ],
   "source": [
    "f = open(\"./File1.txt\")\n",
    "print(f.readline()) # read all file\n",
    "\n",
    "f.close()"
   ]
  },
  {
   "cell_type": "code",
   "execution_count": 10,
   "id": "f1889da8",
   "metadata": {},
   "outputs": [
    {
     "name": "stdout",
     "output_type": "stream",
     "text": [
      "['Pakistan Zindabad\\n', 'We love Pakistan']\n"
     ]
    }
   ],
   "source": [
    "f = open(\"./File1.txt\")\n",
    "print(f.readlines()) # read all line and store ina list now you can apply slic\n",
    "\n",
    "f.close()"
   ]
  },
  {
   "cell_type": "code",
   "execution_count": 12,
   "id": "50c2f7c8",
   "metadata": {},
   "outputs": [
    {
     "name": "stdout",
     "output_type": "stream",
     "text": [
      "['Pakistan Zindabad\\n', 'We love Pakistan']\n"
     ]
    }
   ],
   "source": [
    "f = open(\"./File1.txt\")\n",
    "print(f.readlines()[:10]) # read all file\n",
    "\n",
    "f.close()"
   ]
  },
  {
   "cell_type": "markdown",
   "id": "d08b7257",
   "metadata": {},
   "source": [
    "# read file from chile directory\n",
    "./Folder1/child1/Child2/childfile.txt.txt\""
   ]
  },
  {
   "cell_type": "code",
   "execution_count": 16,
   "id": "230f04f0",
   "metadata": {},
   "outputs": [
    {
     "ename": "FileNotFoundError",
     "evalue": "[Errno 2] No such file or directory: '../Folder1/child1/Child2/childfile.txt.txt'",
     "output_type": "error",
     "traceback": [
      "\u001b[1;31m---------------------------------------------------------------------------\u001b[0m",
      "\u001b[1;31mFileNotFoundError\u001b[0m                         Traceback (most recent call last)",
      "\u001b[1;32m~\\AppData\\Local\\Temp\\ipykernel_6576\\2654007682.py\u001b[0m in \u001b[0;36m<module>\u001b[1;34m\u001b[0m\n\u001b[1;32m----> 1\u001b[1;33m \u001b[0mf\u001b[0m \u001b[1;33m=\u001b[0m \u001b[0mopen\u001b[0m\u001b[1;33m(\u001b[0m\u001b[1;34m\"../Folder1/child1/Child2/childfile.txt.txt\"\u001b[0m\u001b[1;33m)\u001b[0m\u001b[1;33m\u001b[0m\u001b[1;33m\u001b[0m\u001b[0m\n\u001b[0m\u001b[0;32m      2\u001b[0m \u001b[0mprint\u001b[0m\u001b[1;33m(\u001b[0m\u001b[0mf\u001b[0m\u001b[1;33m.\u001b[0m\u001b[0mread\u001b[0m\u001b[1;33m(\u001b[0m\u001b[1;33m)\u001b[0m\u001b[1;33m)\u001b[0m \u001b[1;31m# read all file\u001b[0m\u001b[1;33m\u001b[0m\u001b[1;33m\u001b[0m\u001b[0m\n\u001b[0;32m      3\u001b[0m \u001b[1;33m\u001b[0m\u001b[0m\n\u001b[0;32m      4\u001b[0m \u001b[0mf\u001b[0m\u001b[1;33m.\u001b[0m\u001b[0mclose\u001b[0m\u001b[1;33m(\u001b[0m\u001b[1;33m)\u001b[0m\u001b[1;33m\u001b[0m\u001b[1;33m\u001b[0m\u001b[0m\n",
      "\u001b[1;31mFileNotFoundError\u001b[0m: [Errno 2] No such file or directory: '../Folder1/child1/Child2/childfile.txt.txt'"
     ]
    }
   ],
   "source": [
    "f = open(\"../Folder1/child1/Child2/childfile.txt.txt\")\n",
    "print(f.read()) # read all file\n",
    "\n",
    "f.close()"
   ]
  },
  {
   "cell_type": "code",
   "execution_count": 17,
   "id": "b002eec5",
   "metadata": {},
   "outputs": [
    {
     "name": "stdout",
     "output_type": "stream",
     "text": [
      "ur country\n",
      "Pakistan Zindabad\n"
     ]
    }
   ],
   "source": [
    "with open(\"./Folder1/child1/Child2/childfile.txt.txt\") as f:\n",
    "    f.seek(9)\n",
    "    print(f.read())"
   ]
  },
  {
   "cell_type": "code",
   "execution_count": 19,
   "id": "f6713376",
   "metadata": {},
   "outputs": [],
   "source": [
    "with open(\"./File1.txt\", mode='w') as f:\n",
    "    f.write(\"Hello world\")\n"
   ]
  },
  {
   "cell_type": "code",
   "execution_count": 20,
   "id": "b53393d2",
   "metadata": {},
   "outputs": [
    {
     "name": "stdout",
     "output_type": "stream",
     "text": [
      "\n"
     ]
    }
   ],
   "source": [
    "with open(\"./File1.txt\", mode='w+') as f:\n",
    "    f.write(\"Hello world\")\n",
    "    print(f.read())\n"
   ]
  },
  {
   "cell_type": "code",
   "execution_count": 22,
   "id": "d10f4e3c",
   "metadata": {},
   "outputs": [
    {
     "name": "stdout",
     "output_type": "stream",
     "text": [
      "Hello world\n"
     ]
    }
   ],
   "source": [
    "with open(\"./File1.txt\", mode='w+') as f:\n",
    "    f.write(\"Hello world\")\n",
    "    f.seek(0)\n",
    "    print(f.read())"
   ]
  },
  {
   "cell_type": "code",
   "execution_count": 23,
   "id": "7f21da19",
   "metadata": {},
   "outputs": [
    {
     "name": "stdout",
     "output_type": "stream",
     "text": [
      " country\n",
      "Pakistan Zindabad\n"
     ]
    }
   ],
   "source": [
    "with open(\"./Folder1/child1/Child2/childfile.txt.txt\", mode='r+') as f:\n",
    "    f.write(\"Hello world\")\n",
    "    print(f.read())"
   ]
  },
  {
   "cell_type": "code",
   "execution_count": 28,
   "id": "41cb8eb9",
   "metadata": {},
   "outputs": [
    {
     "name": "stdout",
     "output_type": "stream",
     "text": [
      "\u0000\u0000Hello world\u0000\u0000Hello world\n"
     ]
    }
   ],
   "source": [
    "with open(\"./File2.txt\", mode='r+') as f:\n",
    "    f.seek(len(f.read())+2)\n",
    "    f.write(\"Hello world\")\n",
    "    f.seek(0)\n",
    "    print(f.read())"
   ]
  },
  {
   "cell_type": "code",
   "execution_count": 29,
   "id": "e03fe631",
   "metadata": {},
   "outputs": [
    {
     "name": "stdout",
     "output_type": "stream",
     "text": [
      "<class '_io.BufferedReader'>\n",
      "b'Hello world'\n"
     ]
    }
   ],
   "source": [
    "with open(\"./File1.txt\",mode='rb')as f:\n",
    "    print(type(f))\n",
    "    print(f.read())"
   ]
  },
  {
   "cell_type": "markdown",
   "id": "1aa72358",
   "metadata": {},
   "source": [
    "# store input user in file using while loop"
   ]
  },
  {
   "cell_type": "code",
   "execution_count": null,
   "id": "368b8733",
   "metadata": {},
   "outputs": [
    {
     "name": "stdout",
     "output_type": "stream",
     "text": [
      "Enter student NameHashir Ahmed\n",
      "Enter student NameBilal Ishaq\n",
      "Enter student NameYousuf Jawwad\n",
      "Enter student NameWalled ali\n"
     ]
    }
   ],
   "source": [
    "while True:\n",
    "    name = input(\"Enter student Name\")\n",
    "    if name.lower()== 'exit' or name.lower() == 'x':\n",
    "        break\n",
    "        with open('studentName.txt', 'a') as f:\n",
    "            f,write(name)"
   ]
  },
  {
   "cell_type": "code",
   "execution_count": null,
   "id": "7a50fe1e",
   "metadata": {},
   "outputs": [],
   "source": [
    "while True:\n",
    "    name = input(\"Enter student Name\")\n",
    "    if name.lower()== 'exit' or name.lower() == 'x':\n",
    "        break\n",
    "        with open('studentName.txt', 'a') as f:\n",
    "            f,write(name/+n)"
   ]
  },
  {
   "cell_type": "code",
   "execution_count": null,
   "id": "a61779ac",
   "metadata": {},
   "outputs": [],
   "source": []
  }
 ],
 "metadata": {
  "kernelspec": {
   "display_name": "Python 3 (ipykernel)",
   "language": "python",
   "name": "python3"
  },
  "language_info": {
   "codemirror_mode": {
    "name": "ipython",
    "version": 3
   },
   "file_extension": ".py",
   "mimetype": "text/x-python",
   "name": "python",
   "nbconvert_exporter": "python",
   "pygments_lexer": "ipython3",
   "version": "3.9.13"
  }
 },
 "nbformat": 4,
 "nbformat_minor": 5
}
