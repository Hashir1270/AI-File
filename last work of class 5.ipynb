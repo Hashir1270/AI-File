{
 "cells": [
  {
   "cell_type": "code",
   "execution_count": 3,
   "id": "91f129ae",
   "metadata": {},
   "outputs": [
    {
     "name": "stdout",
     "output_type": "stream",
     "text": [
      "Enter item: a\n",
      "a <class 'str'>\n",
      "0 <class 'int'>\n",
      "['b', 'c', 'a', 'x', 'x']\n"
     ]
    }
   ],
   "source": [
    "l1 = ['a','b','c','a','x','x']\n",
    "\n",
    "remove_item = input(\"Enter item: \")\n",
    "index = l1.index(remove_item)\n",
    "print(remove_item,type(remove_item))\n",
    "print(index,type(index))\n",
    "l1.pop(index)\n",
    "\n",
    "print(l1)"
   ]
  },
  {
   "cell_type": "code",
   "execution_count": null,
   "id": "06e9485e",
   "metadata": {},
   "outputs": [],
   "source": []
  }
 ],
 "metadata": {
  "kernelspec": {
   "display_name": "Python 3 (ipykernel)",
   "language": "python",
   "name": "python3"
  },
  "language_info": {
   "codemirror_mode": {
    "name": "ipython",
    "version": 3
   },
   "file_extension": ".py",
   "mimetype": "text/x-python",
   "name": "python",
   "nbconvert_exporter": "python",
   "pygments_lexer": "ipython3",
   "version": "3.9.13"
  }
 },
 "nbformat": 4,
 "nbformat_minor": 5
}
